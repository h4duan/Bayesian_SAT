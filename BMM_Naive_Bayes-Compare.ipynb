{
 "cells": [
  {
   "cell_type": "code",
   "execution_count": 215,
   "metadata": {},
   "outputs": [],
   "source": [
    "theta = 0.81\n",
    "c1 = 0.72\n",
    "c2 = 0.25\n",
    "d1 = 1 - c1\n",
    "d2 = 1 - c2"
   ]
  },
  {
   "cell_type": "code",
   "execution_count": 216,
   "metadata": {},
   "outputs": [],
   "source": [
    "def first(a, b):\n",
    "    return a / (a + b)\n",
    "\n",
    "def second(a, b):\n",
    "    return a * (a + 1) / ((a + b + 1) * (a + b))\n",
    "\n",
    "def third(a, b):\n",
    "    return (a * (a+1) * (a +2)) / ((a+b)*(a+b+1)*(a+b+2))"
   ]
  },
  {
   "cell_type": "code",
   "execution_count": 217,
   "metadata": {},
   "outputs": [],
   "source": [
    "def solve(first, second):\n",
    "    tau =  (second - first)/(first**2 - second)\n",
    "    a = first * tau\n",
    "    b = tau - a\n",
    "    return a, b"
   ]
  },
  {
   "cell_type": "code",
   "execution_count": 230,
   "metadata": {},
   "outputs": [],
   "source": [
    "iterations = 1000\n",
    "initial_M1 = first(1, 1)\n",
    "initial_M2 = second(1, 1)\n",
    "initial_M3 = third(1, 1)\n",
    "M1 = [initial_M1] * iterations\n",
    "M2 = [initial_M2] * iterations\n",
    "M3 = [initial_M3] * iterations\n",
    "\n",
    "M1_beta = [initial_M1] * iterations\n",
    "M2_beta = [initial_M2] * iterations\n",
    "#M3 = [initial_M3] * iterations"
   ]
  },
  {
   "cell_type": "code",
   "execution_count": 231,
   "metadata": {},
   "outputs": [],
   "source": [
    "import math"
   ]
  },
  {
   "cell_type": "code",
   "execution_count": 232,
   "metadata": {},
   "outputs": [],
   "source": [
    "import random"
   ]
  },
  {
   "cell_type": "code",
   "execution_count": 233,
   "metadata": {},
   "outputs": [],
   "source": [
    "def estimate_third(mu1, mu2):\n",
    "    left = (mu2**2 - (mu1**2)*mu2) / mu1\n",
    "    right = (((1-mu1)**2)*mu2 - mu2**2) / (1-mu1)\n",
    "    to_raw = 3*mu1*(mu2+mu1**2)-2*(mu1**3)\n",
    "    left += to_raw\n",
    "    right += to_raw\n",
    "    #return (left+right)/2\n",
    "    #return random.uniform(left, right)\n",
    "    return (left+right)/2\n",
    "    #coef = 1 / (i+1)**0.5\n",
    "    #return coef * left + (1 - coef)* right"
   ]
  },
  {
   "cell_type": "code",
   "execution_count": 234,
   "metadata": {},
   "outputs": [],
   "source": [
    "true_p = theta * c1 + (1 - theta) * c2\n",
    "for i in range(1, iterations):\n",
    "    r = random.uniform(0, 1)\n",
    "    a, b = solve(M1_beta[i-1], M2_beta[i-1])\n",
    "    M3_beta = third(a, b)\n",
    "    if(r < true_p):\n",
    "        M1[i] = (c1*M2[i-1]+c2*M1[i-1]-c2*M2[i-1])/(c1*M1[i-1]+c2*(1-M1[i-1]))\n",
    "        M2[i] = (c1*M3[i-1]+c2*M2[i-1]-c2*M3[i-1])/(c1*M1[i-1]+c2*(1-M1[i-1]))\n",
    "        M3[i] = estimate_third(M1[i], M2[i]-M1[i]**2)\n",
    "        #M2[i] = (c1*M3+c2*M2[i-1]-c2*M3)/(c1*M1[i-1]+c2*(1-M1[i-1]))\n",
    "        #M2[i] = (M1[i] + (M1[i]**2))/2\n",
    "        M1_beta[i] = (c1*M2_beta[i-1]+c2*M1_beta[i-1]-c2*M2_beta[i-1])/(c1*M1_beta[i-1]+c2*(1-M1_beta[i-1]))\n",
    "        M2_beta[i] = (c1*M3_beta+c2*M2_beta[i-1]-c2*M3_beta)/(c1*M1_beta[i-1]+c2*(1-M1_beta[i-1]))\n",
    "    else:\n",
    "        M1[i] = (d1*M2[i-1]+d2*M1[i-1]-d2*M2[i-1])/(d1*M1[i-1]+d2*(1-M1[i-1]))\n",
    "        #M2[i] = (d1*M3+d2*M2[i-1]-d2*M3)/(d1*M1[i-1]+d2*(1-M1[i-1]))\n",
    "        M2[i] = (d1*M3[i-1]+d2*M2[i-1]-d2*M3[i-1])/(d1*M1[i-1]+d2*(1-M1[i-1]))\n",
    "        M3[i] = estimate_third(M1[i], M2[i]-M1[i]**2)\n",
    "        #M2[i] = (M1[i] + (M1[i]**2))/2\n",
    "        #M2[i] = random.uniform(M1[i], M1[i]**2)\n",
    "        M1_beta[i] = (d1*M2_beta[i-1]+d2*M1_beta[i-1]-d2*M2_beta[i-1])/(d1*M1_beta[i-1]+d2*(1-M1_beta[i-1]))\n",
    "        M2_beta[i] = (d1*M3_beta+d2*M2_beta[i-1]-d2*M3_beta)/(d1*M1_beta[i-1]+d2*(1-M1_beta[i-1]))\n",
    "    #coef = 1 / (i+1)**0.8\n",
    "    #M2[i] = coef * M1[i] + (1-coef) * (M1[i] **2)"
   ]
  },
  {
   "cell_type": "code",
   "execution_count": 236,
   "metadata": {},
   "outputs": [
    {
     "data": {
      "image/png": "[encoded data removed]",
      "text/plain": [
       "<Figure size 432x288 with 1 Axes>"
      ]
     },
     "metadata": {
      "needs_background": "light"
     },
     "output_type": "display_data"
    }
   ],
   "source": [
    "import matplotlib.pyplot as plt\n",
    "plt.plot(M1, label = \"non parametric\")\n",
    "plt.plot(M1_beta, label = \"beta\")\n",
    "plt.ylabel(\"E(theta)\")\n",
    "plt.xlabel(\"Iterations\")\n",
    "plt.legend()\n",
    "plt.title(\"theta = 0.81\")\n",
    "plt.show()"
   ]
  },
  {
   "cell_type": "code",
   "execution_count": 223,
   "metadata": {},
   "outputs": [
    {
     "data": {
      "text/plain": [
       "[0.17976911837114393,\n",
       " 0.17975869552114068,\n",
       " 0.1797482742627892,\n",
       " 0.1797378545956944,\n",
       " 0.17972743651946144,\n",
       " 0.1797481631160188,\n",
       " 0.17973774658192215,\n",
       " 0.17975846965995274,\n",
       " 0.17974805466748658,\n",
       " 0.17976877422822948]"
      ]
     },
     "execution_count": 223,
     "metadata": {},
     "output_type": "execute_result"
    }
   ],
   "source": [
    "M1[-10:]"
   ]
  },
  {
   "cell_type": "code",
   "execution_count": null,
   "metadata": {},
   "outputs": [],
   "source": []
  }
 ],
 "metadata": {
  "kernelspec": {
   "display_name": "Python 3",
   "language": "python",
   "name": "python3"
  },
  "language_info": {
   "codemirror_mode": {
    "name": "ipython",
    "version": 3
   },
   "file_extension": ".py",
   "mimetype": "text/x-python",
   "name": "python",
   "nbconvert_exporter": "python",
   "pygments_lexer": "ipython3",
   "version": "3.7.6"
  }
 },
 "nbformat": 4,
 "nbformat_minor": 4
}
