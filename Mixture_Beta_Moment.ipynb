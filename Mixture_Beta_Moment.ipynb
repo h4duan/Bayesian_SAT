{
 "cells": [
  {
   "cell_type": "code",
   "execution_count": 4,
   "metadata": {},
   "outputs": [],
   "source": [
    "def first(a, b):\n",
    "    return a / (a + b);\n",
    "\n",
    "def second(a, b):\n",
    "    return a * (a + 1) / ((a + b + 1) * (a + b));\n",
    "\n",
    "def solve(first, second):\n",
    "    tau =  (second - first)/(first**2 - second)\n",
    "    a = first * tau\n",
    "    b = tau - a\n",
    "    return a, b;"
   ]
  },
  {
   "cell_type": "code",
   "execution_count": 5,
   "metadata": {},
   "outputs": [],
   "source": [
    "mu = 0.32\n",
    "alpha_x1 = 2.3\n",
    "beta_x1 = 1.2\n",
    "alpha_y1 = 3\n",
    "beta_y1 = 2.5\n",
    "\n",
    "alpha_x2 = 1.4\n",
    "beta_x2 = 0.6\n",
    "alpha_y2 = 3.2\n",
    "beta_y2 = 1.8"
   ]
  },
  {
   "cell_type": "code",
   "execution_count": 6,
   "metadata": {},
   "outputs": [],
   "source": [
    "M1_x = mu * first(alpha_x1, beta_x1) + (1 - mu) * first(alpha_x2, beta_x2)\n",
    "M1_y = mu * first(alpha_y1, beta_y1) + (1 - mu) * first(alpha_y2, beta_y2)\n",
    "M2_x = mu * second(alpha_x1, beta_x1) + (1 - mu) * second(alpha_x2, beta_x2)\n",
    "M2_y = mu * second(alpha_y1, beta_y1) + (1 - mu) * second(alpha_y2, beta_y2)\n",
    "\n",
    "M1_xy = mu * first(alpha_x1, beta_x1) * first(alpha_y1, beta_y1) + (1 - mu) * first(alpha_x2, beta_x2) * first(alpha_y2, beta_y2)"
   ]
  },
  {
   "cell_type": "code",
   "execution_count": null,
   "metadata": {},
   "outputs": [],
   "source": [
    "def initial():\n",
    "    "
   ]
  },
  {
   "cell_type": "code",
   "execution_count": 7,
   "metadata": {},
   "outputs": [
    {
     "data": {
      "text/plain": [
       "0.6862857142857142"
      ]
     },
     "execution_count": 7,
     "metadata": {},
     "output_type": "execute_result"
    }
   ],
   "source": [
    "def solve():\n",
    "    mu = 0.4\n",
    "    alpha_x1 = 1.45\n",
    "    beta_x1 = 0.64\n",
    "    alpha_y1 = 1.12\n",
    "    beta_y1 = 1.67\n",
    "\n",
    "    alpha_x2 = 1.98\n",
    "    beta_x2 = 2.13\n",
    "    alpha_y2 = 0.39\n",
    "    beta_y2 = 1.88\n",
    "    \n",
    "    num_epochs = \n",
    "    \n",
    "    for i in range()"
   ]
  },
  {
   "cell_type": "code",
   "execution_count": null,
   "metadata": {},
   "outputs": [],
   "source": []
  }
 ],
 "metadata": {
  "kernelspec": {
   "display_name": "Python 3",
   "language": "python",
   "name": "python3"
  },
  "language_info": {
   "codemirror_mode": {
    "name": "ipython",
    "version": 3
   },
   "file_extension": ".py",
   "mimetype": "text/x-python",
   "name": "python",
   "nbconvert_exporter": "python",
   "pygments_lexer": "ipython3",
   "version": "3.7.6"
  }
 },
 "nbformat": 4,
 "nbformat_minor": 4
}
