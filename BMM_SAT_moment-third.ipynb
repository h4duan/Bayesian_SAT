{
 "cells": [
  {
   "cell_type": "code",
   "execution_count": 102,
   "metadata": {},
   "outputs": [],
   "source": [
    "import numpy as np\n",
    "import matplotlib.pyplot as plt\n",
    "import random"
   ]
  },
  {
   "cell_type": "code",
   "execution_count": 103,
   "metadata": {},
   "outputs": [],
   "source": [
    "clauses = []\n",
    "\n",
    "num_literal = 0\n",
    "num_clauses = 0\n",
    "\n",
    "with open('SAT2018/Scheel/cms-scheel-md4-families-r24-c4-p4-9-13-18.cnf') as file:\n",
    "    for line in file:\n",
    "        if(line[0] == 'p'):\n",
    "            l = line.split()\n",
    "            num_literal = int(l[2])\n",
    "            num_clauses = int(l[3])\n",
    "        if(line[0] != 'p' and line[0] != '%' and line[0] != 'c'):\n",
    "            clause = [int(digit) for digit in line.split()]\n",
    "            clauses.append(clause[:-1])"
   ]
  },
  {
   "cell_type": "code",
   "execution_count": 104,
   "metadata": {},
   "outputs": [],
   "source": [
    "def first(a, b):\n",
    "    return a / (a + b)\n",
    "\n",
    "def second(a, b):\n",
    "    return a * (a + 1) / ((a + b + 1) * (a + b))\n",
    "\n",
    "def solve(first, second):\n",
    "    tau =  (second - first)/(first**2 - second)\n",
    "    a = first * tau\n",
    "    b = tau - a\n",
    "    return a, b"
   ]
  },
  {
   "cell_type": "code",
   "execution_count": 105,
   "metadata": {},
   "outputs": [],
   "source": [
    "def third(a, b):\n",
    "    return (a * (a+1) * (a +2)) / ((a+b)*(a+b+1)*(a+b+2))"
   ]
  },
  {
   "cell_type": "code",
   "execution_count": 106,
   "metadata": {},
   "outputs": [
    {
     "data": {
      "text/plain": [
       "0.375"
      ]
     },
     "execution_count": 106,
     "metadata": {},
     "output_type": "execute_result"
    }
   ],
   "source": [
    "second(0.5, 0.5)"
   ]
  },
  {
   "cell_type": "code",
   "execution_count": 107,
   "metadata": {},
   "outputs": [],
   "source": [
    "epochs = 100"
   ]
  },
  {
   "cell_type": "code",
   "execution_count": 108,
   "metadata": {},
   "outputs": [],
   "source": [
    "def estimate_third(mu1, mu2):\n",
    "    left = (mu2**2 - (mu1**2)*mu2) / mu1\n",
    "    right = (((1-mu1)**2)*mu2 - mu2**2) / (1-mu1)\n",
    "    to_raw = 3*mu1*(mu2+mu1**2)-2*(mu1**3)\n",
    "    left += to_raw\n",
    "    right += to_raw\n",
    "    return (left+right)/2"
   ]
  },
  {
   "cell_type": "code",
   "execution_count": 109,
   "metadata": {},
   "outputs": [],
   "source": [
    "first_moment = np.asarray([0.5] * num_literal)\n",
    "second_moment = np.asarray([0.375] * num_literal)\n",
    "third_moment = np.asarray([third(0.5, 0.5)] * num_literal)\n",
    "\n",
    "def update_clause(input_clause):\n",
    "    length_clause = len(input_clause)\n",
    "    \n",
    "    p = 1.0\n",
    "    \n",
    "    for i in range(length_clause):\n",
    "        lit = input_clause[i]\n",
    "        if(lit > 0):\n",
    "            p = p * (1 - first_moment[abs(lit)-1])\n",
    "        else:\n",
    "            p = p * first_moment[abs(lit)-1]\n",
    "\n",
    "    \n",
    "    for i in range(length_clause):\n",
    "        lit = input_clause[i]\n",
    "        M1 = first_moment[abs(lit)-1]\n",
    "        left_extre = 0.01\n",
    "        right_extre = 0.99\n",
    "        if(M1 < left_extre or M1 > right_extre):\n",
    "            continue\n",
    "        M2 = second_moment[abs(lit)-1]\n",
    "        M3 = third_moment[abs(lit)-1]\n",
    "\n",
    "        \n",
    "        if(lit > 0):\n",
    "            p_omit = p / (1 - M1)\n",
    "            first_moment[abs(lit)-1] =  (M1 - p_omit * (M1 - M2))/ (1 - p)\n",
    "            second_moment[abs(lit)-1] = (M2 - p_omit * (M2 - M3)) / (1 - p)\n",
    "            third_moment[abs(lit)-1] = estimate_third(first_moment[abs(lit)-1], second_moment[abs(lit)-1] - first_moment[abs(lit)-1]**2)\n",
    "        else:\n",
    "            p_omit = p / M1\n",
    "            first_moment[abs(lit)-1] = (M1 - p_omit * M2) / (1-p)\n",
    "            second_moment[abs(lit)-1] = (M2 - p_omit * M3) / (1-p)\n",
    "            third_moment[abs(lit)-1] = estimate_third(first_moment[abs(lit)-1], second_moment[abs(lit)-1] - first_moment[abs(lit)-1]**2)\n",
    "\n",
    "\n",
    "\n",
    "        #print(first_moment[abs(lit)-1], second_moment[abs(lit)-1])"
   ]
  },
  {
   "cell_type": "code",
   "execution_count": 110,
   "metadata": {},
   "outputs": [],
   "source": [
    "def satisfied_clauses():\n",
    "    polarity = np.zeros(num_literal)\n",
    "    for k in range(num_literal):\n",
    "        if(first_moment[k] > 0.5):\n",
    "            polarity[k] = 1\n",
    "        else:\n",
    "            polarity[k] = -1\n",
    "    num_satisfied = 0\n",
    "    for k in range(num_clauses):\n",
    "        clause = clauses[k]\n",
    "        for l in clause:\n",
    "            if(l * polarity[abs(l) - 1] > 0):\n",
    "                num_satisfied += 1\n",
    "                break\n",
    "    return num_satisfied"
   ]
  },
  {
   "cell_type": "code",
   "execution_count": 111,
   "metadata": {},
   "outputs": [],
   "source": [
    "satisfied = np.zeros(epochs)"
   ]
  },
  {
   "cell_type": "code",
   "execution_count": 112,
   "metadata": {},
   "outputs": [],
   "source": [
    "for k in range(epochs):\n",
    "    for clause in clauses:\n",
    "        update_clause(clause)\n",
    "    satisfied[k] = satisfied_clauses()"
   ]
  },
  {
   "cell_type": "code",
   "execution_count": 113,
   "metadata": {},
   "outputs": [],
   "source": [
    "satisfied_third = satisfied"
   ]
  },
  {
   "cell_type": "code",
   "execution_count": 95,
   "metadata": {},
   "outputs": [],
   "source": [
    "satisfied_second = np.asarray([77850., 77684., 78964., 86413., 87552., 87523., 88598., 89115.,\n",
    "       89615., 90208., 91246., 91752., 91962., 92148., 92315., 92381.,\n",
    "       92411., 92453., 92521., 92549., 92567., 92646., 92805., 92827.,\n",
    "       92839., 92855., 92867., 92877., 92882., 92887., 92895., 92905.,\n",
    "       92913., 92924., 92926., 92930., 92941., 92944., 92946., 92949.,\n",
    "       92955., 92957., 92959., 92965., 92969., 92970., 92973., 92975.,\n",
    "       92975., 92979., 92981., 92989., 92992., 92993., 92999., 93006.,\n",
    "       93012., 93014., 93016., 93018., 93019., 93020., 93020., 93020.,\n",
    "       93020., 93021., 93022., 93022., 93022., 93022., 93022., 93024.,\n",
    "       93024., 93024., 93024., 93024., 93024., 93024., 93025., 93026.,\n",
    "       93026., 93026., 93026., 93026., 93026., 93026., 93026., 93026.,\n",
    "       93026., 93026., 93026., 93026., 93026., 93026., 93026., 93026.,\n",
    "       93026., 93026., 93026., 93026.])"
   ]
  },
  {
   "cell_type": "code",
   "execution_count": 96,
   "metadata": {},
   "outputs": [],
   "source": [
    "satisfied_beta = np.asarray([79666., 78942., 79570., 83792., 86706., 88174., 88181., 87960.,\n",
    "       88547., 88768., 89006., 89452., 89586., 89916., 90357., 90481.,\n",
    "       90532., 90681., 90779., 90842., 90885., 90924., 90972., 91027.,\n",
    "       91087., 91115., 91143., 91179., 91254., 91312., 91426., 91601.,\n",
    "       91622., 91731., 91814., 91851., 91901., 91939., 91950., 91963.,\n",
    "       91976., 91994., 92001., 92008., 92024., 92039., 92043., 92050.,\n",
    "       92055., 92069., 92080., 92086., 92093., 92092., 92094., 92100.,\n",
    "       92102., 92106., 92108., 92107., 92115., 92117., 92124., 92128.,\n",
    "       92131., 92133., 92134., 92136., 92137., 92141., 92144., 92149.,\n",
    "       92152., 92160., 92172., 92185., 92194., 92206., 92220., 92225.,\n",
    "       92234., 92238., 92241., 92243., 92250., 92256., 92262., 92273.,\n",
    "       92288., 92301., 92307., 92316., 92324., 92329., 92331., 92334.,\n",
    "       92335., 92336., 92338., 92338.])"
   ]
  },
  {
   "cell_type": "code",
   "execution_count": 97,
   "metadata": {},
   "outputs": [],
   "source": [
    "x = np.asarray(range(100))"
   ]
  },
  {
   "cell_type": "code",
   "execution_count": 98,
   "metadata": {},
   "outputs": [
    {
     "data": {
      "text/plain": [
       "10745"
      ]
     },
     "execution_count": 98,
     "metadata": {},
     "output_type": "execute_result"
    }
   ],
   "source": [
    "num_clauses"
   ]
  },
  {
   "cell_type": "code",
   "execution_count": 101,
   "metadata": {},
   "outputs": [
    {
     "data": {
      "image/png": "[encoded data removed]",
      "text/plain": [
       "<Figure size 432x288 with 1 Axes>"
      ]
     },
     "metadata": {
      "needs_background": "light"
     },
     "output_type": "display_data"
    }
   ],
   "source": [
    "import matplotlib.pyplot as plt\n",
    "plt.plot(x, satisfied_beta, label = \"beta\")\n",
    "plt.plot(x, satisfied_second, label = \"second\")\n",
    "plt.plot(x, satisfied_third, label = \"third\")\n",
    "plt.legend()\n",
    "plt.xlabel(\"epochs\")\n",
    "plt.ylabel(\"satisfied clauses\")\n",
    "plt.title(\"clause: 10745\")\n",
    "plt.show()"
   ]
  },
  {
   "cell_type": "code",
   "execution_count": 100,
   "metadata": {},
   "outputs": [
    {
     "data": {
      "text/plain": [
       "10745"
      ]
     },
     "execution_count": 100,
     "metadata": {},
     "output_type": "execute_result"
    }
   ],
   "source": [
    "num_clauses"
   ]
  },
  {
   "cell_type": "code",
   "execution_count": 21,
   "metadata": {},
   "outputs": [
    {
     "data": {
      "text/plain": [
       "1061"
      ]
     },
     "execution_count": 21,
     "metadata": {},
     "output_type": "execute_result"
    }
   ],
   "source": [
    "satisfied_clauses()"
   ]
  },
  {
   "cell_type": "code",
   "execution_count": 90,
   "metadata": {},
   "outputs": [
    {
     "data": {
      "text/plain": [
       "219071"
      ]
     },
     "execution_count": 90,
     "metadata": {},
     "output_type": "execute_result"
    }
   ],
   "source": [
    "num_clauses"
   ]
  },
  {
   "cell_type": "code",
   "execution_count": 133,
   "metadata": {},
   "outputs": [
    {
     "data": {
      "text/plain": [
       "0.26019068311926996"
      ]
     },
     "execution_count": 133,
     "metadata": {},
     "output_type": "execute_result"
    }
   ],
   "source": [
    "np.random.beta(5, 5) * (right - left) + left"
   ]
  },
  {
   "cell_type": "code",
   "execution_count": null,
   "metadata": {},
   "outputs": [],
   "source": []
  }
 ],
 "metadata": {
  "kernelspec": {
   "display_name": "Python 3",
   "language": "python",
   "name": "python3"
  },
  "language_info": {
   "codemirror_mode": {
    "name": "ipython",
    "version": 3
   },
   "file_extension": ".py",
   "mimetype": "text/x-python",
   "name": "python",
   "nbconvert_exporter": "python",
   "pygments_lexer": "ipython3",
   "version": "3.7.6"
  }
 },
 "nbformat": 4,
 "nbformat_minor": 4
}
