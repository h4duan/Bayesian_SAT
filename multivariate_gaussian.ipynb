{
 "cells": [
  {
   "cell_type": "code",
   "execution_count": 1,
   "metadata": {},
   "outputs": [],
   "source": [
    "import torch"
   ]
  },
  {
   "cell_type": "code",
   "execution_count": 2,
   "metadata": {},
   "outputs": [],
   "source": [
    "import numpy as np "
   ]
  },
  {
   "cell_type": "code",
   "execution_count": 3,
   "metadata": {},
   "outputs": [],
   "source": [
    "#Assume that's 3SAT\n",
    "def moment_bmm(mu, sigma, signal):\n",
    "    #mu, sigma: torch tensor\n",
    "    #signal: numpy array\n",
    "    num_literal = len(mu)\n",
    "    \n",
    "    t = torch.zeros(num_literal, requires_grad=True)\n",
    "    pdf = torch.exp(torch.matmul(mu, t) + 0.5 * torch.matmul(torch.matmul(t, sigma), t))\n",
    "    final = torch.empty(3)\n",
    "    \n",
    "    d1 = torch.autograd.grad(pdf, t, create_graph=True)\n",
    "    dx = d1[0][abs(signal[0])-1]\n",
    "    dy = d1[0][abs(signal[1])-1]\n",
    "    dz = d1[0][abs(signal[2])-1]\n",
    "    \n",
    "    d2_x = torch.autograd.grad(dx, t, create_graph=True)\n",
    "    d2_y = torch.autograd.grad(dy, t, create_graph=True)\n",
    "    dxz = d2_x[0][abs(signal[2])-1]\n",
    "    dxy = d2_x[0][abs(signal[1])-1]\n",
    "    dyz = d2_y[0][abs(signal[2])-1]\n",
    "    \n",
    "    \n",
    "    d3 = torch.autograd.grad(dxz, t, create_graph=True)\n",
    "    dxyz = d3[0][abs(signal[1]) -1]\n",
    "    #print(dxyz,torch.autograd.grad(dyz, t, create_graph=True)[0][abs(signal[0]) -1])\n",
    "        \n",
    "    \n",
    "    if signal[0] > 0 and signal[1] > 0 and signal[2] > 0:\n",
    "        final = dxyz\n",
    "    elif signal[0] < 0 and signal[1] > 0 and signal[2] > 0:\n",
    "        final = dyz - dxyz\n",
    "    elif signal[0] > 0 and signal[1] < 0 and signal[2] > 0:\n",
    "        final = dxz - dxyz\n",
    "    elif signal[0] > 0 and signal[1] > 0 and signal[2] < 0:\n",
    "        final = dxy - dxyz        \n",
    "    elif signal[0] < 0 and signal[1] < 0 and signal[2] > 0:\n",
    "        final = dz - dyz - dxz + dxyz\n",
    "    elif signal[0] < 0 and signal[1] > 0 and signal[2] < 0:\n",
    "        final = dy - dyz - dxy + dxyz\n",
    "    elif signal[0] > 0 and signal[1] < 0 and signal[2] < 0:\n",
    "        final = dx - dxz - dxy + dxyz\n",
    "    else:\n",
    "        final = 1 - dy - dx - dz + dxy + dyz + dxz - dxyz\n",
    "        \n",
    "    denominator = final.item()\n",
    "        \n",
    "    second_derivative = torch.autograd.grad(final, t, create_graph=True)\n",
    "    \n",
    "    M1_change = second_derivative[0].detach().numpy()\n",
    "    \n",
    "    M2_change = np.zeros((num_literal, num_literal))\n",
    "    \n",
    "    for i in range(num_literal):\n",
    "        for j in range(num_literal):\n",
    "            if j>=i:\n",
    "                derivative_i = second_derivative[0][i]\n",
    "                second_derivative_i = torch.autograd.grad(derivative_i, t, create_graph=True)\n",
    "                M2_change[i][j] = second_derivative_i[0][j].item()\n",
    "            else:\n",
    "                M2_change[i][j] = M2_change[j][i]\n",
    "                  \n",
    "    return denominator, M1_change, M2_change     "
   ]
  },
  {
   "cell_type": "code",
   "execution_count": 4,
   "metadata": {},
   "outputs": [],
   "source": [
    "mu = torch.tensor([0.8, 0.9, 0.7, 0.2])\n",
    "sigma = torch.tensor([[0.1, 0, 0, 0], [0, 0.02, 0, 0],  [0, 0, 0.05, 0], [0, 0, 0, 0.1]])"
   ]
  },
  {
   "cell_type": "code",
   "execution_count": 5,
   "metadata": {},
   "outputs": [
    {
     "data": {
      "text/plain": [
       "0.16"
      ]
     },
     "execution_count": 5,
     "metadata": {},
     "output_type": "execute_result"
    }
   ],
   "source": [
    "0.2 - 0.2 **2"
   ]
  },
  {
   "cell_type": "code",
   "execution_count": 6,
   "metadata": {},
   "outputs": [],
   "source": [
    "signal = np.asarray([-1, -2, 3])"
   ]
  },
  {
   "cell_type": "code",
   "execution_count": 7,
   "metadata": {},
   "outputs": [
    {
     "data": {
      "text/plain": [
       "0.07056000000000001"
      ]
     },
     "execution_count": 7,
     "metadata": {},
     "output_type": "execute_result"
    }
   ],
   "source": [
    "0.8 * 0.9 * 0.7 * (0.2 * 0.2 + 0.1)"
   ]
  },
  {
   "cell_type": "code",
   "execution_count": 8,
   "metadata": {},
   "outputs": [
    {
     "data": {
      "text/plain": [
       "(0.013999998569488525,\n",
       " array([0.0042, 0.0098, 0.0108, 0.0028], dtype=float32),\n",
       " array([[-0.00084001,  0.00294   ,  0.00324   ,  0.00084   ],\n",
       "        [ 0.00294   ,  0.00658   ,  0.00756   ,  0.00196   ],\n",
       "        [ 0.00324   ,  0.00756   ,  0.00896   ,  0.00216   ],\n",
       "        [ 0.00084   ,  0.00196   ,  0.00216   ,  0.00196   ]]))"
      ]
     },
     "execution_count": 8,
     "metadata": {},
     "output_type": "execute_result"
    }
   ],
   "source": [
    "moment_bmm(mu, sigma, signal)"
   ]
  },
  {
   "cell_type": "code",
   "execution_count": null,
   "metadata": {},
   "outputs": [],
   "source": []
  },
  {
   "cell_type": "code",
   "execution_count": null,
   "metadata": {},
   "outputs": [],
   "source": []
  },
  {
   "cell_type": "code",
   "execution_count": 9,
   "metadata": {},
   "outputs": [],
   "source": [
    "def sigma_M2(sigma, mu):\n",
    "    length = len(sigma)\n",
    "    M2 = np.eye(length)\n",
    "    for i in range(length):\n",
    "        for j in range(length):\n",
    "            M2[i][j] = sigma[i][j] + mu[i] * mu[j]\n",
    "    return M2"
   ]
  },
  {
   "cell_type": "code",
   "execution_count": 10,
   "metadata": {},
   "outputs": [],
   "source": [
    "def M2_sigma(M2, mu):\n",
    "    length = len(M2)\n",
    "    sigma = np.eye(length)\n",
    "    for i in range(length):\n",
    "        for j in range(length):\n",
    "            if j >= i:\n",
    "                sigma[i][j] = M2[i][j] - mu[i] * mu[j]\n",
    "            else:\n",
    "                sigma[i][j] = sigma[j][i]\n",
    "    return sigma"
   ]
  },
  {
   "cell_type": "code",
   "execution_count": 11,
   "metadata": {},
   "outputs": [],
   "source": [
    "def modify_M1(mu, epsilon):\n",
    "    for i in range(len(mu)):\n",
    "        if mu[i] > 1:\n",
    "            mu[i] = 1 - epsilon\n",
    "        if mu[i] < 0:\n",
    "            mu[i] = epsilon\n",
    "    return mu"
   ]
  },
  {
   "cell_type": "code",
   "execution_count": 12,
   "metadata": {},
   "outputs": [],
   "source": [
    "def modify_M2(mu, M2):\n",
    "    length = len(M2)\n",
    "    for i in range(length):\n",
    "        for j in range(length):\n",
    "            if i == j:\n",
    "                if M2[i][i] > mu[i]:\n",
    "                    M2[i][i] = mu[i]*0.8 + (mu[i]**2) * 0.2\n",
    "                if M2[i][i] < mu[i]**2:\n",
    "                    M2[i][i] = (mu[i]**2) * 0.8 + mu[i] * 0.8\n",
    "            else:\n",
    "                if M2[i][j] < 0:\n",
    "                    M2[i][j] = 0.1 * min(mu[i], mu[j])\n",
    "                if M2[i][j] > mu[i] or M2[i][j] > mu[j]:\n",
    "                    M2[i][j] = 0.8 * min(mu[i], mu[j])\n",
    "    return M2\n",
    "                    \n",
    "                "
   ]
  },
  {
   "cell_type": "code",
   "execution_count": 34,
   "metadata": {},
   "outputs": [],
   "source": [
    "def bmm_update(clauses, num_literal, num_clauses, num_epochs):\n",
    "    mu = np.asarray([0.5] * num_literal, dtype=np.float32)\n",
    "    sigma = np.eye(num_literal, dtype=np.float32) * 0.1\n",
    "    M2 = sigma_M2(sigma, mu)\n",
    "    \n",
    "    t = torch.zeros(len(mu), requires_grad=True)\n",
    "\n",
    "    \n",
    "    for i in range(num_epochs):\n",
    "        print(\"------Epoch \" + str(i) + \" ------\" )\n",
    "        print(mu)\n",
    "        print(sigma)\n",
    "        print(\" \")\n",
    "        for clause in clauses:\n",
    "            mu = mu.astype(dtype=np.float32)\n",
    "            sigma = sigma.astype(dtype=np.float32)\n",
    "            mu_torch = torch.from_numpy(mu)\n",
    "            sigma_torch = torch.from_numpy(sigma)\n",
    "            denominator, M1_change, M2_change = moment_bmm(mu_torch, sigma_torch, -1 * clause)\n",
    "            mu -= M1_change\n",
    "            M2 -= M2_change\n",
    "            mu = mu / (1 - denominator)\n",
    "            M2 = M2 / (1 - denominator)\n",
    "            sigma = M2_sigma(M2, mu)\n",
    "                \n",
    "    return mu"
   ]
  },
  {
   "cell_type": "code",
   "execution_count": 35,
   "metadata": {},
   "outputs": [],
   "source": [
    "num_literal = 4\n",
    "num_clauses = 2\n",
    "num_epochs = 5"
   ]
  },
  {
   "cell_type": "code",
   "execution_count": 36,
   "metadata": {},
   "outputs": [],
   "source": [
    "clauses = np.asarray([[1, 2, 3], [-1, -2, 4]])"
   ]
  },
  {
   "cell_type": "code",
   "execution_count": 37,
   "metadata": {},
   "outputs": [
    {
     "name": "stdout",
     "output_type": "stream",
     "text": [
      "------Epoch 0 ------\n",
      "[0.5 0.5 0.5 0.5]\n",
      "[[0.1 0.  0.  0. ]\n",
      " [0.  0.1 0.  0. ]\n",
      " [0.  0.  0.1 0. ]\n",
      " [0.  0.  0.  0.1]]\n",
      " \n",
      "------Epoch 1 ------\n",
      "[ 0.38717636  0.387176    0.03436452 -0.2964895 ]\n",
      "[[-5.42283922 -5.65291891 -6.36771339 -5.66206524]\n",
      " [-5.65291891 -5.42283955 -6.36771467 -5.662066  ]\n",
      " [-6.36771339 -6.36771467 -6.99706565 -6.45429356]\n",
      " [-5.66206524 -5.662066   -6.45429356 -5.64298415]]\n",
      " \n",
      "------Epoch 2 ------\n",
      "[3.7949994 3.7949998 3.869064  3.148047 ]\n",
      "[[-251.69708779 -251.94775211 -284.76647365 -255.26365213]\n",
      " [-251.94775211 -251.6970759  -284.76647555 -255.26365308]\n",
      " [-284.76647365 -284.76647555 -321.68409297 -288.61862587]\n",
      " [-255.26365213 -255.26365308 -288.61862587 -258.63030259]]\n",
      " \n",
      "------Epoch 3 ------\n",
      "[-66.08878  -66.08878  -75.12932  -67.687355]\n",
      "[[-34873.04352235 -34873.29347096 -39421.92144278 -35347.94785075]\n",
      " [-34873.29347096 -34873.04588036 -39421.92144278 -35347.94785075]\n",
      " [-39421.92144278 -39421.92144278 -44563.6706978  -39958.59314241]\n",
      " [-35347.94785075 -35347.94785075 -39958.59314241 -35829.0693344 ]]\n",
      " \n",
      "------Epoch 4 ------\n",
      "[-85.08529 -85.08529 -96.60375 -86.94242]\n",
      "[[-1365567.40805169 -1365567.80222859 -1543684.74763908 -1384158.7115205 ]\n",
      " [-1365567.80222859 -1365567.60514014 -1543684.74763908 -1384158.7115205 ]\n",
      " [-1543684.74763908 -1543684.74763908 -1745034.11948599 -1564700.63978301]\n",
      " [-1384158.7115205  -1384158.7115205  -1564700.63978301 -1403002.68206844]]\n",
      " \n"
     ]
    },
    {
     "data": {
      "text/plain": [
       "array([15063.77 , 15063.77 , 17028.184, 15268.151], dtype=float32)"
      ]
     },
     "execution_count": 37,
     "metadata": {},
     "output_type": "execute_result"
    }
   ],
   "source": [
    "bmm_update(clauses, num_literal, num_clauses, num_epochs)"
   ]
  },
  {
   "cell_type": "code",
   "execution_count": null,
   "metadata": {},
   "outputs": [],
   "source": []
  },
  {
   "cell_type": "code",
   "execution_count": null,
   "metadata": {},
   "outputs": [],
   "source": []
  }
 ],
 "metadata": {
  "kernelspec": {
   "display_name": "Python 3",
   "language": "python",
   "name": "python3"
  },
  "language_info": {
   "codemirror_mode": {
    "name": "ipython",
    "version": 3
   },
   "file_extension": ".py",
   "mimetype": "text/x-python",
   "name": "python",
   "nbconvert_exporter": "python",
   "pygments_lexer": "ipython3",
   "version": "3.7.6"
  }
 },
 "nbformat": 4,
 "nbformat_minor": 4
}
