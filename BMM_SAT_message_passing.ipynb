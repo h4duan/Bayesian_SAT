{
 "cells": [
  {
   "cell_type": "code",
   "execution_count": 145,
   "metadata": {},
   "outputs": [],
   "source": [
    "clauses = []\n",
    "\n",
    "num_literal = 0\n",
    "num_clauses = 0\n",
    "\n",
    "with open('SAT2018/Biere/sdiv15prop.cnf') as file:\n",
    "    for line in file:\n",
    "        if(line[0] == 'p'):\n",
    "            l = line.split()\n",
    "            num_literal = int(l[2])\n",
    "            num_clauses = int(l[3])\n",
    "        if(line[0] != 'p' and line[0] != '%' and line[0] != 'c'):\n",
    "            clause = [int(digit) for digit in line.split()]\n",
    "            clauses.append(clause[:-1])"
   ]
  },
  {
   "cell_type": "code",
   "execution_count": 146,
   "metadata": {},
   "outputs": [],
   "source": [
    "literal_clauses = [[] for _ in range(num_literal)]"
   ]
  },
  {
   "cell_type": "code",
   "execution_count": 147,
   "metadata": {},
   "outputs": [],
   "source": [
    "for i in range(len(clauses)):\n",
    "    for literal in clauses[i]:\n",
    "        if literal > 0:\n",
    "            literal_clauses[abs(literal)-1].append(i+1)\n",
    "        else:\n",
    "            literal_clauses[abs(literal)-1].append(-(i+1))"
   ]
  },
  {
   "cell_type": "code",
   "execution_count": 148,
   "metadata": {},
   "outputs": [],
   "source": [
    "first_moment = [0.5] * num_literal\n",
    "second_moment = [0.375] * num_literal"
   ]
  },
  {
   "cell_type": "code",
   "execution_count": 149,
   "metadata": {},
   "outputs": [],
   "source": [
    "def update_message(literal, clause):\n",
    "    input_clause = clauses[abs(clause)-1]\n",
    "    \n",
    "    length_clause = len(input_clause)\n",
    "    \n",
    "    p = 1.0\n",
    "    \n",
    "    for i in range(length_clause):\n",
    "        lit = input_clause[i]\n",
    "        if(lit > 0):\n",
    "            p = p * (1 - first_moment[abs(lit)-1])\n",
    "        else:\n",
    "            p = p * first_moment[abs(lit)-1]\n",
    "    #print(p)\n",
    "            \n",
    "    M1 = first_moment[literal]\n",
    "    M2 = second_moment[literal]\n",
    "    \n",
    "    left_extre = 0.0001\n",
    "    right_extre = 0.9999\n",
    "    if(M1 < left_extre or M1 > right_extre):\n",
    "        return\n",
    "    \n",
    "            \n",
    "    if clause > 0:\n",
    "        p_omit = p / (1 - M1)\n",
    "        first_moment[literal] =  (M1 - p_omit * (M1 - M2))/ (1 - p)\n",
    "        left = first_moment[literal]**2\n",
    "        right = first_moment[literal]\n",
    "        second_moment[literal] = (left + right)/2\n",
    "    else:\n",
    "        p_omit = p / M1\n",
    "        first_moment[literal] = (M1 - p_omit * M2) / (1 - p)\n",
    "        left = first_moment[literal]**2\n",
    "        right = first_moment[literal]\n",
    "        second_moment[literal] = (left + right)/2"
   ]
  },
  {
   "cell_type": "code",
   "execution_count": 150,
   "metadata": {},
   "outputs": [],
   "source": [
    "def update():\n",
    "    for literal in range(num_literal):\n",
    "        for clause in literal_clauses[literal]:\n",
    "            update_message(literal, clause)"
   ]
  },
  {
   "cell_type": "code",
   "execution_count": 151,
   "metadata": {},
   "outputs": [],
   "source": [
    "def main(epochs):\n",
    "    for i in range(epochs):\n",
    "        update()"
   ]
  },
  {
   "cell_type": "code",
   "execution_count": 152,
   "metadata": {},
   "outputs": [],
   "source": [
    "main(1000)"
   ]
  },
  {
   "cell_type": "code",
   "execution_count": 153,
   "metadata": {},
   "outputs": [],
   "source": [
    "def satisfied_clauses():\n",
    "    polarity = [0] * num_literal\n",
    "    for k in range(num_literal):\n",
    "        if(first_moment[k] > 0.5):\n",
    "            polarity[k] = 1\n",
    "        else:\n",
    "            polarity[k] = -1\n",
    "    num_satisfied = 0\n",
    "    for k in range(num_clauses):\n",
    "        clause = clauses[k]\n",
    "        for l in clause:\n",
    "            if(l * polarity[abs(l) - 1] > 0):\n",
    "                num_satisfied += 1\n",
    "                break\n",
    "    return num_satisfied"
   ]
  },
  {
   "cell_type": "code",
   "execution_count": 154,
   "metadata": {},
   "outputs": [
    {
     "data": {
      "text/plain": [
       "8994"
      ]
     },
     "execution_count": 154,
     "metadata": {},
     "output_type": "execute_result"
    }
   ],
   "source": [
    "satisfied_clauses()"
   ]
  },
  {
   "cell_type": "code",
   "execution_count": 143,
   "metadata": {},
   "outputs": [
    {
     "data": {
      "text/plain": [
       "9236"
      ]
     },
     "execution_count": 143,
     "metadata": {},
     "output_type": "execute_result"
    }
   ],
   "source": [
    "num_clauses"
   ]
  },
  {
   "cell_type": "code",
   "execution_count": null,
   "metadata": {},
   "outputs": [],
   "source": []
  }
 ],
 "metadata": {
  "kernelspec": {
   "display_name": "Python 3",
   "language": "python",
   "name": "python3"
  },
  "language_info": {
   "codemirror_mode": {
    "name": "ipython",
    "version": 3
   },
   "file_extension": ".py",
   "mimetype": "text/x-python",
   "name": "python",
   "nbconvert_exporter": "python",
   "pygments_lexer": "ipython3",
   "version": "3.7.6"
  }
 },
 "nbformat": 4,
 "nbformat_minor": 4
}
