{
 "cells": [
  {
   "cell_type": "code",
   "execution_count": 1,
   "metadata": {},
   "outputs": [],
   "source": [
    "import numpy as np\n",
    "import matplotlib.pyplot as plt\n",
    "import random"
   ]
  },
  {
   "cell_type": "code",
   "execution_count": 2,
   "metadata": {},
   "outputs": [],
   "source": [
    "clauses = []\n",
    "\n",
    "num_literals = 0\n",
    "num_clause = 0\n",
    "\n",
    "with open('../UF250.1065.100/uf250-01.cnf') as file:\n",
    "    for line in file:\n",
    "        if(line[0] == 'p'):\n",
    "            l = line.split()\n",
    "            num_literals = int(l[2])\n",
    "            num_clauses = int(l[3])\n",
    "        if(line[0] != 'p' and line[0] != '%' and line[0] != 'c'):\n",
    "            clause = [int(digit) for digit in line.split()]\n",
    "            clauses.append(clause[:-1])"
   ]
  },
  {
   "cell_type": "code",
   "execution_count": 3,
   "metadata": {},
   "outputs": [],
   "source": [
    "from numpy import linalg as LA"
   ]
  },
  {
   "cell_type": "code",
   "execution_count": 4,
   "metadata": {},
   "outputs": [],
   "source": [
    "import math"
   ]
  },
  {
   "cell_type": "code",
   "execution_count": 15,
   "metadata": {},
   "outputs": [],
   "source": [
    "def rbf(xi, xj, h):\n",
    "    return math.exp(-((LA.norm(xi - xj))**2) / h)"
   ]
  },
  {
   "cell_type": "code",
   "execution_count": 33,
   "metadata": {},
   "outputs": [],
   "source": [
    "def rbf_derivative(xi, xj, h, k):\n",
    "    return (2 / h) * k * (xi - xj)"
   ]
  },
  {
   "cell_type": "code",
   "execution_count": 34,
   "metadata": {},
   "outputs": [],
   "source": [
    "#returns the likelihood of each clause being F for each sample\n",
    "def likelihood_clauses():\n",
    "    likelihoods = np.zeros((num_points, num_clauses))\n",
    "    for i in range(num_points):\n",
    "        for j in range(num_clauses):\n",
    "            p = 1\n",
    "            for literal in clauses[j]:\n",
    "                if literal > 0:\n",
    "                    p = p * (1 - points[i][literal-1])\n",
    "                else:\n",
    "                    p = p * points[i][-literal-1]\n",
    "            likelihoods[i][j] = p\n",
    "    return likelihoods       "
   ]
  },
  {
   "cell_type": "code",
   "execution_count": 35,
   "metadata": {},
   "outputs": [],
   "source": [
    "#return the derivative for the i-th sample\n",
    "def derivative_likelihood(alpha, beta, i, likelihoods):\n",
    "    derivative = np.zeros(num_literals)\n",
    "    for k in range(num_literals):\n",
    "        derivative[k] += ((alpha - 1) / points[i][k]) - ((beta - 1) / (1 - points[i][k]))\n",
    "        \n",
    "    for c in range(num_clauses):\n",
    "        likelihood = likelihoods[i][c]\n",
    "        for literal in clause:\n",
    "            if literal > 0:\n",
    "                derivative[literal-1] += (likelihood / ( 1- points[i][literal-1])) / (1 - likelihood)\n",
    "            else:\n",
    "                derivative[-literal-1] += - (likelihood / points[i][-literal-1]) / (1 - likelihood)\n",
    "                \n",
    "    return derivative\n",
    "    "
   ]
  },
  {
   "cell_type": "code",
   "execution_count": 36,
   "metadata": {},
   "outputs": [],
   "source": [
    "def satisfied(polarity):\n",
    "    num_satisfied = 0\n",
    "    for clause in clauses:\n",
    "        for literal in clause:\n",
    "            if literal * polarity[abs(literal) - 1] > 0:\n",
    "                num_satisfied += 1\n",
    "                break\n",
    "    return num_satisfied"
   ]
  },
  {
   "cell_type": "code",
   "execution_count": 37,
   "metadata": {},
   "outputs": [],
   "source": [
    "num_points = 20\n",
    "points = np.random.beta(2, 2, size = (num_points, num_literals))\n",
    "def stein_update(num_epochs):\n",
    "    satisfied_clauses = np.zeros(num_epochs)\n",
    "    for e in range(num_epochs):\n",
    "        ave = np.sum(points, axis=0) / num_points\n",
    "        polarity = np.zeros(num_literals)\n",
    "        for i in range(num_literals):\n",
    "            if ave[i] > 0.5:\n",
    "                polarity[i] = 1\n",
    "            else:\n",
    "                polarity[i] = -1\n",
    "        satisfied_clauses[e] = satisfied(polarity)\n",
    "        kernel_matrix = np.zeros((num_points, num_points))\n",
    "        h = 1\n",
    "        for i in range(num_points):\n",
    "            for j in range(num_points):\n",
    "                if i <= j:\n",
    "                    kernel_matrix[i][j] = rbf(points[i], points[j], h)\n",
    "                else:\n",
    "                    kernel_matrix[i][j] = kernel_matrix[j][i]  \n",
    "        new_points = np.zeros((num_points, num_literals))\n",
    "        likelihoods = likelihood_clauses()\n",
    "        derivatives_likelihood = np.zeros((num_points, num_literals))\n",
    "        for i in range(num_points):\n",
    "            derivatives_likelihood[i] = derivative_likelihood(0.5, 0.5, i, likelihoods)\n",
    "        epsilon = 0.01\n",
    "        for i in range(num_points):\n",
    "            phi = 0\n",
    "            for j in range(num_points):\n",
    "                phi += kernel_matrix[i][j] * derivatives_likelihood[j] + rbf_derivative(i, j, h, kernel_matrix[i][j])\n",
    "            phi = phi / num_points\n",
    "            new_points[i] = points[i] + epsilon * phi\n",
    "        for i in range(num_points):\n",
    "            for j in range(num_literals):\n",
    "                if new_points[i][j] < 0.01:\n",
    "                    points[i][j] = 0.01\n",
    "                elif new_points[i][j] > 0.99:\n",
    "                    points[i][j] = 0.99\n",
    "                else:\n",
    "                    points[i][j] = new_points[i][j]\n",
    "    return satisfied_clauses"
   ]
  },
  {
   "cell_type": "code",
   "execution_count": 38,
   "metadata": {},
   "outputs": [
    {
     "data": {
      "text/plain": [
       "array([930., 930., 930., 930., 933., 933., 933., 933., 932., 929., 930.,\n",
       "       930., 930., 930., 930., 930., 930., 932., 932., 932., 933., 934.,\n",
       "       934., 930., 930., 930., 930., 930., 930., 930.])"
      ]
     },
     "execution_count": 38,
     "metadata": {},
     "output_type": "execute_result"
    }
   ],
   "source": [
    "stein_update(30)"
   ]
  },
  {
   "cell_type": "code",
   "execution_count": null,
   "metadata": {},
   "outputs": [],
   "source": []
  }
 ],
 "metadata": {
  "kernelspec": {
   "display_name": "Python 3",
   "language": "python",
   "name": "python3"
  },
  "language_info": {
   "codemirror_mode": {
    "name": "ipython",
    "version": 3
   },
   "file_extension": ".py",
   "mimetype": "text/x-python",
   "name": "python",
   "nbconvert_exporter": "python",
   "pygments_lexer": "ipython3",
   "version": "3.7.6"
  }
 },
 "nbformat": 4,
 "nbformat_minor": 4
}
