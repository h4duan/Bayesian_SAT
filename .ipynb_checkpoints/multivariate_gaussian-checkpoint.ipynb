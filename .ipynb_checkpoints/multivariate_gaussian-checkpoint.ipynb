{
 "cells": [
  {
   "cell_type": "code",
   "execution_count": 296,
   "metadata": {},
   "outputs": [],
   "source": [
    "import torch"
   ]
  },
  {
   "cell_type": "code",
   "execution_count": 297,
   "metadata": {},
   "outputs": [],
   "source": [
    "import numpy as np "
   ]
  },
  {
   "cell_type": "code",
   "execution_count": 320,
   "metadata": {},
   "outputs": [],
   "source": [
    "#Assume that's 3SAT\n",
    "def moment_bmm(mu, sigma, signal):\n",
    "    #mu, sigma: torch tensor\n",
    "    #signal: numpy array\n",
    "    num_literal = len(mu)\n",
    "    \n",
    "    t = torch.zeros(num_literal, requires_grad=True)\n",
    "    pdf = torch.exp(torch.matmul(mu, t) + 0.5 * torch.matmul(torch.matmul(t, sigma), t))\n",
    "    final = torch.empty(3)\n",
    "    \n",
    "    d1 = torch.autograd.grad(pdf, t, create_graph=True)\n",
    "    dx = d1[0][abs(signal[0])-1]\n",
    "    dy = d1[0][abs(signal[1])-1]\n",
    "    dz = d1[0][abs(signal[2])-1]\n",
    "    \n",
    "    d2_x = torch.autograd.grad(dx, t, create_graph=True)\n",
    "    d2_y = torch.autograd.grad(dy, t, create_graph=True)\n",
    "    dxz = d2_x[0][abs(signal[2])-1]\n",
    "    dxy = d2_x[0][abs(signal[1])-1]\n",
    "    dyz = d2_y[0][abs(signal[2])-1]\n",
    "    \n",
    "    \n",
    "    d3 = torch.autograd.grad(dxz, t, create_graph=True)\n",
    "    dxyz = d3[0][abs(signal[1]) -1]\n",
    "    #print(dxyz,torch.autograd.grad(dyz, t, create_graph=True)[0][abs(signal[0]) -1])\n",
    "    \n",
    "    \n",
    "    if signal[0] > 0 and signal[1] > 0 and signal[2] > 0:\n",
    "        final = dxyz\n",
    "    elif signal[0] < 0 and signal[1] > 0 and signal[2] > 0:\n",
    "        final = dyz - dxyz\n",
    "    elif signal[0] > 0 and signal[1] < 0 and signal[2] > 0:\n",
    "        final = dxz - dxyz\n",
    "    elif signal[0] > 0 and signal[1] > 0 and signal[2] < 0:\n",
    "        final = dxy - dxyz        \n",
    "    elif signal[0] < 0 and signal[1] < 0 and signal[2] > 0:\n",
    "        final = dz - dyz - dxz + dxyz\n",
    "    elif signal[0] < 0 and signal[1] > 0 and signal[2] < 0:\n",
    "        final = dy - dyz - dxy + dxyz\n",
    "    elif signal[0] > 0 and signal[1] < 0 and signal[2] < 0:\n",
    "        final = dx - dxz - dxy + dxyz\n",
    "    else:\n",
    "        final = 1 - dy - dx - dz + dxy + dyz + dxz - dxyz\n",
    "        \n",
    "    denominator = final.item()\n",
    "        \n",
    "    second_derivative = torch.autograd.grad(final, t, create_graph=True)\n",
    "    \n",
    "    M1_change = second_derivative[0].detach().numpy()\n",
    "    \n",
    "    M2_change = np.zeros((num_literal, num_literal))\n",
    "    \n",
    "    for i in range(num_literal):\n",
    "        for j in range(num_literal):\n",
    "            if j>=i:\n",
    "                derivative_i = second_derivative[0][i]\n",
    "                second_derivative_i = torch.autograd.grad(derivative_i, t, create_graph=True)\n",
    "                M2_change[i][j] = second_derivative_i[0][j].item()\n",
    "            else:\n",
    "                M2_change[i][j] = M2_change[j][i]\n",
    "                  \n",
    "    return denominator, M1_change, M2_change     "
   ]
  },
  {
   "cell_type": "code",
   "execution_count": 321,
   "metadata": {},
   "outputs": [],
   "source": [
    "mu = torch.tensor([0.8, 0.9, 0.7, 0.2])\n",
    "sigma = torch.tensor([[0.2, 0, 0, 0], [0, 0.35, 0, 0],  [0, 0, 0.1, 0], [0, 0, 0, 0.2]])"
   ]
  },
  {
   "cell_type": "code",
   "execution_count": 322,
   "metadata": {},
   "outputs": [],
   "source": [
    "signal = np.asarray([2, 3, -4])"
   ]
  },
  {
   "cell_type": "code",
   "execution_count": 323,
   "metadata": {},
   "outputs": [
    {
     "data": {
      "text/plain": [
       "0.504"
      ]
     },
     "execution_count": 323,
     "metadata": {},
     "output_type": "execute_result"
    }
   ],
   "source": [
    "0.9 * 0.7 * 0.8"
   ]
  },
  {
   "cell_type": "code",
   "execution_count": 324,
   "metadata": {},
   "outputs": [
    {
     "data": {
      "text/plain": [
       "(0.5040000081062317,\n",
       " array([ 0.4032    ,  0.64959997,  0.4248    , -0.0252    ], dtype=float32),\n",
       " array([[ 0.42336002,  0.51968002,  0.33983999, -0.02016   ],\n",
       "        [ 0.51968002,  0.93743998,  0.54751998, -0.03248   ],\n",
       "        [ 0.33983999,  0.54751998,  0.39816001, -0.02123999],\n",
       "        [-0.02016   , -0.03248   , -0.02123999,  0.07056   ]]))"
      ]
     },
     "execution_count": 324,
     "metadata": {},
     "output_type": "execute_result"
    }
   ],
   "source": [
    "moment_bmm(mu, sigma, signal)"
   ]
  },
  {
   "cell_type": "code",
   "execution_count": 325,
   "metadata": {},
   "outputs": [],
   "source": [
    "def sigma_M2(sigma, mu):\n",
    "    length = len(sigma)\n",
    "    M2 = np.eye(length)\n",
    "    for i in range(length):\n",
    "        for j in range(length):\n",
    "            M2[i][j] = sigma[i][j] + mu[i] * mu[j]\n",
    "    return M2"
   ]
  },
  {
   "cell_type": "code",
   "execution_count": 326,
   "metadata": {},
   "outputs": [],
   "source": [
    "def M2_sigma(M2, mu):\n",
    "    length = len(M2)\n",
    "    sigma = np.eye(length)\n",
    "    for i in range(length):\n",
    "        for j in range(length):\n",
    "            if j >= i:\n",
    "                sigma[i][j] = M2[i][j] - mu[i] * mu[j]\n",
    "            else:\n",
    "                sigma[i][j] = sigma[j][i]\n",
    "    return sigma"
   ]
  },
  {
   "cell_type": "code",
   "execution_count": 404,
   "metadata": {},
   "outputs": [],
   "source": [
    "def bmm_update(clauses, num_literal, num_clauses, num_epochs):\n",
    "    mu = np.asarray([0.5] * num_literal, dtype=np.float32)\n",
    "    sigma = np.eye(num_literal, dtype=np.float32) * 0.01\n",
    "    M2 = sigma_M2(sigma, mu)\n",
    "    \n",
    "    t = torch.zeros(len(mu), requires_grad=True)\n",
    "\n",
    "    \n",
    "    for i in range(num_epochs):\n",
    "        for clause in clauses:\n",
    "            #print(M2)\n",
    "            mu = mu.astype(dtype=np.float32)\n",
    "            sigma = sigma.astype(dtype=np.float32)\n",
    "            mu_torch = torch.from_numpy(mu)\n",
    "            sigma_torch = torch.from_numpy(sigma)\n",
    "            denominator, M1_change, M2_change = moment_bmm(mu_torch, sigma_torch, -1 * clause)\n",
    "            mu -= M1_change\n",
    "            M2 -= M2_change\n",
    "            mu = mu / (1 - denominator)\n",
    "            M2 = M2 / (1 - denominator)\n",
    "            sigma = M2_sigma(M2, mu)\n",
    "                \n",
    "    return mu"
   ]
  },
  {
   "cell_type": "code",
   "execution_count": 405,
   "metadata": {},
   "outputs": [],
   "source": [
    "clauses = np.asarray([[-1, -2, 3], [1, 2, 4], [2, -3, 4]])"
   ]
  },
  {
   "cell_type": "code",
   "execution_count": 406,
   "metadata": {},
   "outputs": [
    {
     "data": {
      "text/plain": [
       "array([-1, -2,  3])"
      ]
     },
     "execution_count": 406,
     "metadata": {},
     "output_type": "execute_result"
    }
   ],
   "source": [
    "clauses[0]"
   ]
  },
  {
   "cell_type": "code",
   "execution_count": 407,
   "metadata": {},
   "outputs": [],
   "source": [
    "num_literal = 4\n",
    "num_clauses = 3\n",
    "num_epochs = 10"
   ]
  },
  {
   "cell_type": "code",
   "execution_count": 408,
   "metadata": {},
   "outputs": [
    {
     "name": "stdout",
     "output_type": "stream",
     "text": [
      "[[0.25999999 0.25       0.25       0.25      ]\n",
      " [0.25       0.25999999 0.25       0.25      ]\n",
      " [0.25       0.25       0.25999999 0.25      ]\n",
      " [0.25       0.25       0.25       0.25999999]]\n",
      "[[0.25714284 0.24708571 0.25005714 0.24857143]\n",
      " [0.24708571 0.25714285 0.25005714 0.24857143]\n",
      " [0.25005714 0.25005714 0.26285713 0.25142857]\n",
      " [0.24857143 0.24857143 0.25142857 0.25999999]]\n",
      "[[0.55433268 0.53270538 0.53774965 0.53591826]\n",
      " [0.53270538 0.5543327  0.53774967 0.53591827]\n",
      " [0.53774965 0.53774967 0.56378452 0.54070922]\n",
      " [0.53591826 0.53591827 0.54070922 0.5605128 ]]\n",
      "[[-1.23787075 -1.24359849 -1.26096507 -1.2508191 ]\n",
      " [-1.24359849 -1.20607142 -1.24494573 -1.23511479]\n",
      " [-1.26096507 -1.24494573 -1.24141781 -1.25246041]\n",
      " [-1.2508191  -1.23511479 -1.25246041 -1.2206392 ]]\n",
      "[[39.91621046 39.91383921 40.2855862  40.22868965]\n",
      " [39.91383921 39.95385731 40.30500586 40.2470108 ]\n",
      " [40.2855862  40.30500586 40.69934949 40.62177547]\n",
      " [40.22868965 40.2470108  40.62177547 40.58604474]]\n",
      "[[-3277.08281321 -3248.40449342 -3298.51063138 -3285.70043526]\n",
      " [-3248.40449342 -3219.93097314 -3269.62171255 -3256.92417813]\n",
      " [-3298.51063138 -3269.62171255 -3320.03705705 -3307.16305618]\n",
      " [-3285.70043526 -3256.92417813 -3307.16305618 -3294.29753341]]\n",
      "[[-20017.78945226 -19845.50300575 -20149.57615637 -20072.18092037]\n",
      " [-19845.50300575 -19674.65395876 -19976.13307333 -19899.40414593]\n",
      " [-20149.57615637 -19976.13307333 -20282.18902932 -20204.30480882]\n",
      " [-20072.18092037 -19899.40414593 -20204.30480882 -20126.67717078]]\n",
      "[[-121226.20014066 -120175.32661956 -122021.64277364 -121550.88576414]\n",
      " [-120175.32661956 -119133.50078717 -120963.8393439  -120497.15157676]\n",
      " [-122021.64277364 -120963.8393439  -122822.26343434 -122348.43508935]\n",
      " [-121550.88576414 -120497.15157676 -122348.43508935 -121876.38080095]]\n",
      "[[-723245.53593349 -716993.7106564  -727997.23750235 -725193.72420845]\n",
      " [-716993.7106564  -710795.80510182 -721704.24378848 -718924.93191443]\n",
      " [-727997.23750235 -721704.24378848 -732780.16670972 -729958.12501697]\n",
      " [-725193.72420845 -718924.93191443 -729958.12501697 -727146.96095164]]\n",
      "[[-4484439.18249003 -4445628.52944883 -4513886.02592349 -4496489.61748597]\n",
      " [-4445628.52944883 -4407153.65655767 -4474820.65636114 -4457574.46535917]\n",
      " [-4513886.02592349 -4474820.65636114 -4543525.73163994 -4526014.83523363]\n",
      " [-4496489.61748597 -4457574.46535917 -4526014.83523363 -4508571.55588272]]\n",
      "[[-25846598.9878287  -25623013.89814148 -26016352.07886025\n",
      "  -25916112.51010227]\n",
      " [-25623013.89814148 -25401363.72541254 -25791299.49597436\n",
      "  -25691929.55281559]\n",
      " [-26016352.07886025 -25791299.49597436 -26187220.4647228\n",
      "  -26086324.32863741]\n",
      " [-25916112.51010227 -25691929.55281559 -26086324.32863741\n",
      "  -25985815.17594368]]\n",
      "[[-1.73031707e+08 -1.71534604e+08 -1.74168030e+08 -1.73496883e+08]\n",
      " [-1.71534604e+08 -1.70050451e+08 -1.72661100e+08 -1.71995748e+08]\n",
      " [-1.74168030e+08 -1.72661100e+08 -1.75311829e+08 -1.74636270e+08]\n",
      " [-1.73496883e+08 -1.71995748e+08 -1.74636270e+08 -1.73963315e+08]]\n",
      "[[-9.25508987e+08 -9.17501990e+08 -9.31587238e+08 -9.27997597e+08]\n",
      " [-9.17501990e+08 -9.09564197e+08 -9.23527596e+08 -9.19968937e+08]\n",
      " [-9.31587238e+08 -9.23527596e+08 -9.37705372e+08 -9.34092110e+08]\n",
      " [-9.27997597e+08 -9.19968937e+08 -9.34092110e+08 -9.30492855e+08]]\n",
      "[[-9.10722753e+09 -9.02843279e+09 -9.16703764e+09 -9.13171447e+09]\n",
      " [-9.02843279e+09 -8.95032062e+09 -9.08772602e+09 -9.05270887e+09]\n",
      " [-9.16703764e+09 -9.08772602e+09 -9.22724073e+09 -9.19168547e+09]\n",
      " [-9.13171447e+09 -9.05270887e+09 -9.19168547e+09 -9.15626714e+09]]\n",
      "[[-4.56880941e+10 -4.52927939e+10 -4.59881360e+10 -4.58109270e+10]\n",
      " [-4.52927939e+10 -4.49009123e+10 -4.55902432e+10 -4.54145649e+10]\n",
      " [-4.59881360e+10 -4.55902432e+10 -4.62901556e+10 -4.61117792e+10]\n",
      " [-4.58109270e+10 -4.54145649e+10 -4.61117792e+10 -4.59340921e+10]]\n",
      "[[-5.57435819e+12 -5.52613103e+12 -5.61096664e+12 -5.58934623e+12]\n",
      " [-5.52613103e+12 -5.47832017e+12 -5.56242208e+12 -5.54098916e+12]\n",
      " [-5.61096664e+12 -5.56242208e+12 -5.64781474e+12 -5.62605261e+12]\n",
      " [-5.58934623e+12 -5.54098916e+12 -5.62605261e+12 -5.60437364e+12]]\n",
      "[[-3.32548102e+13 -3.29670960e+13 -3.34731977e+13 -3.33442201e+13]\n",
      " [-3.29670960e+13 -3.26818741e+13 -3.31835992e+13 -3.30557347e+13]\n",
      " [-3.34731977e+13 -3.31835992e+13 -3.36930280e+13 -3.35631975e+13]\n",
      " [-3.33442201e+13 -3.30557347e+13 -3.35631975e+13 -3.34338720e+13]]\n",
      "[[-2.04654890e+14 -2.02884267e+14 -2.05998884e+14 -2.05205140e+14]\n",
      " [-2.02884267e+14 -2.01128983e+14 -2.04216653e+14 -2.03429799e+14]\n",
      " [-2.05998884e+14 -2.04216653e+14 -2.07351728e+14 -2.06552769e+14]\n",
      " [-2.05205140e+14 -2.03429799e+14 -2.06552769e+14 -2.05756901e+14]]\n",
      "[[-1.19380484e+15 -1.18347651e+15 -1.20164495e+15 -1.19701480e+15]\n",
      " [-1.18347651e+15 -1.17323748e+15 -1.19124864e+15 -1.18665866e+15]\n",
      " [-1.20164495e+15 -1.19124864e+15 -1.20953639e+15 -1.20487586e+15]\n",
      " [-1.19701480e+15 -1.18665866e+15 -1.20487586e+15 -1.20023333e+15]]\n",
      "[[-inf -inf -inf -inf]\n",
      " [-inf -inf -inf -inf]\n",
      " [-inf -inf -inf -inf]\n",
      " [-inf -inf -inf -inf]]\n",
      "[[nan nan nan nan]\n",
      " [nan nan nan nan]\n",
      " [nan nan nan nan]\n",
      " [nan nan nan nan]]\n",
      "[[nan nan nan nan]\n",
      " [nan nan nan nan]\n",
      " [nan nan nan nan]\n",
      " [nan nan nan nan]]\n",
      "[[nan nan nan nan]\n",
      " [nan nan nan nan]\n",
      " [nan nan nan nan]\n",
      " [nan nan nan nan]]\n",
      "[[nan nan nan nan]\n",
      " [nan nan nan nan]\n",
      " [nan nan nan nan]\n",
      " [nan nan nan nan]]\n",
      "[[nan nan nan nan]\n",
      " [nan nan nan nan]\n",
      " [nan nan nan nan]\n",
      " [nan nan nan nan]]\n",
      "[[nan nan nan nan]\n",
      " [nan nan nan nan]\n",
      " [nan nan nan nan]\n",
      " [nan nan nan nan]]\n",
      "[[nan nan nan nan]\n",
      " [nan nan nan nan]\n",
      " [nan nan nan nan]\n",
      " [nan nan nan nan]]\n",
      "[[nan nan nan nan]\n",
      " [nan nan nan nan]\n",
      " [nan nan nan nan]\n",
      " [nan nan nan nan]]\n",
      "[[nan nan nan nan]\n",
      " [nan nan nan nan]\n",
      " [nan nan nan nan]\n",
      " [nan nan nan nan]]\n",
      "[[nan nan nan nan]\n",
      " [nan nan nan nan]\n",
      " [nan nan nan nan]\n",
      " [nan nan nan nan]]\n"
     ]
    },
    {
     "data": {
      "text/plain": [
       "array([nan, nan, nan, nan], dtype=float32)"
      ]
     },
     "execution_count": 408,
     "metadata": {},
     "output_type": "execute_result"
    }
   ],
   "source": [
    "bmm_update(clauses, num_literal, num_clauses, num_epochs)"
   ]
  },
  {
   "cell_type": "code",
   "execution_count": null,
   "metadata": {},
   "outputs": [],
   "source": []
  },
  {
   "cell_type": "code",
   "execution_count": null,
   "metadata": {},
   "outputs": [],
   "source": []
  }
 ],
 "metadata": {
  "kernelspec": {
   "display_name": "Python 3",
   "language": "python",
   "name": "python3"
  },
  "language_info": {
   "codemirror_mode": {
    "name": "ipython",
    "version": 3
   },
   "file_extension": ".py",
   "mimetype": "text/x-python",
   "name": "python",
   "nbconvert_exporter": "python",
   "pygments_lexer": "ipython3",
   "version": "3.7.6"
  }
 },
 "nbformat": 4,
 "nbformat_minor": 4
}
