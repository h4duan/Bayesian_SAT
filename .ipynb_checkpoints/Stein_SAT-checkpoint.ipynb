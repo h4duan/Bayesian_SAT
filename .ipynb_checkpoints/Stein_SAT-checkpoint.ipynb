{
 "cells": [
  {
   "cell_type": "code",
   "execution_count": 30,
   "metadata": {},
   "outputs": [],
   "source": [
    "import numpy as np\n",
    "import matplotlib.pyplot as plt\n",
    "import random"
   ]
  },
  {
   "cell_type": "code",
   "execution_count": 31,
   "metadata": {},
   "outputs": [],
   "source": [
    "clauses = []\n",
    "\n",
    "num_literals = 0\n",
    "num_clause = 0\n",
    "\n",
    "with open('../UF250.1065.100/uf250-01.cnf') as file:\n",
    "    for line in file:\n",
    "        if(line[0] == 'p'):\n",
    "            l = line.split()\n",
    "            num_literals = int(l[2])\n",
    "            num_clauses = int(l[3])\n",
    "        if(line[0] != 'p' and line[0] != '%' and line[0] != 'c'):\n",
    "            clause = [int(digit) for digit in line.split()]\n",
    "            clauses.append(clause[:-1])"
   ]
  },
  {
   "cell_type": "code",
   "execution_count": 32,
   "metadata": {},
   "outputs": [],
   "source": [
    "from numpy import linalg as LA"
   ]
  },
  {
   "cell_type": "code",
   "execution_count": 33,
   "metadata": {},
   "outputs": [],
   "source": [
    "import math"
   ]
  },
  {
   "cell_type": "code",
   "execution_count": 34,
   "metadata": {},
   "outputs": [],
   "source": [
    "def rbf(xi, xj, h):\n",
    "    return math.exp(-((LA.norm(xi - xj))**2) / h)"
   ]
  },
  {
   "cell_type": "code",
   "execution_count": 35,
   "metadata": {},
   "outputs": [],
   "source": [
    "def rbf_derivative(xj, xi, h, k):\n",
    "    return -(2 / h) * k * (xj - xi)"
   ]
  },
  {
   "cell_type": "code",
   "execution_count": 36,
   "metadata": {},
   "outputs": [],
   "source": [
    "#returns the likelihood of each clause being F for each sample\n",
    "def likelihood_clauses():\n",
    "    likelihoods = np.zeros((num_points, num_clauses))\n",
    "    for i in range(num_points):\n",
    "        for j in range(num_clauses):\n",
    "            p = 1\n",
    "            for literal in clauses[j]:\n",
    "                if literal > 0:\n",
    "                    p = p * (1 - points[i][literal-1])\n",
    "                else:\n",
    "                    p = p * points[i][-literal-1]\n",
    "            likelihoods[i][j] = p\n",
    "    return likelihoods       "
   ]
  },
  {
   "cell_type": "code",
   "execution_count": 37,
   "metadata": {},
   "outputs": [],
   "source": [
    "#return the derivative for the i-th sample\n",
    "def derivative_likelihood(alpha, beta, i, likelihoods):\n",
    "    derivative = np.zeros(num_literals)\n",
    "    for k in range(num_literals):\n",
    "        derivative[k] += ((alpha - 1) / points[i][k]) - ((beta - 1) / (1 - points[i][k]))\n",
    "        \n",
    "    for c in range(num_clauses):\n",
    "        likelihood = likelihoods[i][c]\n",
    "        for literal in clauses[c]:\n",
    "            if literal > 0:\n",
    "                derivative[literal-1] += (likelihood / ( 1- points[i][literal-1])) / (1 - likelihood)\n",
    "            else:\n",
    "                derivative[-literal-1] += - (likelihood / points[i][-literal-1]) / (1 - likelihood)\n",
    "                \n",
    "    return derivative\n",
    "    "
   ]
  },
  {
   "cell_type": "code",
   "execution_count": 38,
   "metadata": {},
   "outputs": [],
   "source": [
    "def satisfied(polarity):\n",
    "    num_satisfied = 0\n",
    "    for clause in clauses:\n",
    "        for literal in clause:\n",
    "            if literal * polarity[abs(literal) - 1] > 0:\n",
    "                num_satisfied += 1\n",
    "                break\n",
    "    return num_satisfied"
   ]
  },
  {
   "cell_type": "code",
   "execution_count": 57,
   "metadata": {},
   "outputs": [],
   "source": [
    "def determin_h(points):\n",
    "    length = int(len(points))\n",
    "    distance = np.zeros(int(length * (length - 1) / 2))\n",
    "    m = 0\n",
    "    for i in range(length):\n",
    "        for j in range(length):\n",
    "            if i < j:\n",
    "                distance[m] = LA.norm(points[i] - points[j])\n",
    "                m += 1\n",
    "    return np.median(distance)**2 / math.log(length)"
   ]
  },
  {
   "cell_type": "code",
   "execution_count": 92,
   "metadata": {},
   "outputs": [],
   "source": [
    "num_points = 20\n",
    "points = np.random.beta(0.5, 0.5, size = (num_points, num_literals))\n",
    "def stein_update(num_epochs):\n",
    "    satisfied_clauses = np.zeros(num_epochs)\n",
    "    for e in range(num_epochs):\n",
    "        ave = np.sum(points, axis=0) / num_points\n",
    "        polarity = np.zeros(num_literals)\n",
    "        for i in range(num_literals):\n",
    "            if ave[i] > 0.5:\n",
    "                polarity[i] = 1\n",
    "            else:\n",
    "                polarity[i] = -1\n",
    "        #print(satisfied(polarity))\n",
    "        print(ave[:5])\n",
    "        satisfied_clauses[e] = satisfied(polarity)\n",
    "        kernel_matrix = np.zeros((num_points, num_points))\n",
    "        h = determin_h(points)\n",
    "        for i in range(num_points):\n",
    "            for j in range(num_points):\n",
    "                if i <= j:\n",
    "                    kernel_matrix[i][j] = rbf(points[i], points[j], h)\n",
    "                else:\n",
    "                    kernel_matrix[i][j] = kernel_matrix[j][i]  \n",
    "        new_points = np.zeros((num_points, num_literals))\n",
    "        likelihoods = likelihood_clauses()\n",
    "        derivatives_likelihood = np.zeros((num_points, num_literals))\n",
    "        for i in range(num_points):\n",
    "            derivatives_likelihood[i] = derivative_likelihood(0.5, 0.5, i, likelihoods)\n",
    "        epsilon = 10 / math.log(e + 2)\n",
    "        for i in range(num_points):\n",
    "            phi = 0\n",
    "            for j in range(num_points):\n",
    "                phi += kernel_matrix[i][j] * derivatives_likelihood[j] + rbf_derivative(j, i, h, kernel_matrix[i][j])\n",
    "                #phi += kernel_matrix[i][j] * derivatives_likelihood[j]\n",
    "            phi = phi / num_points\n",
    "            new_points[i] = points[i] + epsilon * phi\n",
    "        for i in range(num_points):\n",
    "            for j in range(num_literals):\n",
    "                if new_points[i][j] < 0.001:\n",
    "                    points[i][j] = 0.001\n",
    "                elif new_points[i][j] > 0.999:\n",
    "                    points[i][j] = 0.999\n",
    "                else:\n",
    "                    points[i][j] = new_points[i][j]\n",
    "    return satisfied_clauses"
   ]
  },
  {
   "cell_type": "code",
   "execution_count": 93,
   "metadata": {},
   "outputs": [
    {
     "name": "stdout",
     "output_type": "stream",
     "text": [
      "[0.50997741 0.55739836 0.61763537 0.49277999 0.62946261]\n",
      "[0.0509 0.999  0.9491 0.8992 0.999 ]\n",
      "[0.001  0.3503 0.5998 0.8493 0.999 ]\n",
      "[0.001  0.001  0.8992 0.8493 0.999 ]\n",
      "[0.001 0.001 0.999 0.999 0.999]\n",
      "[0.001  0.001  0.999  0.999  0.9491]\n",
      "[0.001 0.001 0.999 0.999 0.999]\n",
      "[0.001  0.001  0.999  0.9491 0.999 ]\n",
      "[0.001 0.001 0.999 0.999 0.999]\n",
      "[0.001 0.001 0.999 0.999 0.999]\n",
      "[0.001 0.001 0.999 0.999 0.999]\n",
      "[0.001 0.001 0.999 0.999 0.999]\n",
      "[0.001 0.001 0.999 0.999 0.999]\n",
      "[0.001 0.001 0.999 0.999 0.999]\n",
      "[0.001 0.001 0.999 0.999 0.999]\n",
      "[0.001 0.001 0.999 0.999 0.999]\n",
      "[0.001 0.001 0.999 0.999 0.999]\n",
      "[0.001 0.001 0.999 0.999 0.999]\n",
      "[0.001 0.001 0.999 0.999 0.999]\n",
      "[0.001 0.001 0.999 0.999 0.999]\n",
      "[0.001 0.001 0.999 0.999 0.999]\n",
      "[0.001 0.001 0.999 0.999 0.999]\n",
      "[0.001 0.001 0.999 0.999 0.999]\n",
      "[0.001 0.001 0.999 0.999 0.999]\n",
      "[0.001 0.001 0.999 0.999 0.999]\n",
      "[0.001 0.001 0.999 0.999 0.999]\n",
      "[0.001 0.001 0.999 0.999 0.999]\n",
      "[0.001 0.001 0.999 0.999 0.999]\n",
      "[0.001 0.001 0.999 0.999 0.999]\n",
      "[0.001 0.001 0.999 0.999 0.999]\n",
      "[0.001 0.001 0.999 0.999 0.999]\n",
      "[0.001 0.001 0.999 0.999 0.999]\n",
      "[0.001 0.001 0.999 0.999 0.999]\n",
      "[0.001 0.001 0.999 0.999 0.999]\n",
      "[0.001 0.001 0.999 0.999 0.999]\n",
      "[0.001 0.001 0.999 0.999 0.999]\n",
      "[0.001 0.001 0.999 0.999 0.999]\n",
      "[0.001 0.001 0.999 0.999 0.999]\n",
      "[0.001 0.001 0.999 0.999 0.999]\n",
      "[0.001 0.001 0.999 0.999 0.999]\n",
      "[0.001 0.001 0.999 0.999 0.999]\n",
      "[0.001 0.001 0.999 0.999 0.999]\n",
      "[0.001 0.001 0.999 0.999 0.999]\n",
      "[0.001 0.001 0.999 0.999 0.999]\n",
      "[0.001 0.001 0.999 0.999 0.999]\n",
      "[0.001 0.001 0.999 0.999 0.999]\n",
      "[0.001 0.001 0.999 0.999 0.999]\n",
      "[0.001 0.001 0.999 0.999 0.999]\n",
      "[0.001 0.001 0.999 0.999 0.999]\n",
      "[0.001 0.001 0.999 0.999 0.999]\n",
      "[0.001 0.001 0.999 0.999 0.999]\n",
      "[0.001 0.001 0.999 0.999 0.999]\n",
      "[0.001 0.001 0.999 0.999 0.999]\n",
      "[0.001 0.001 0.999 0.999 0.999]\n",
      "[0.001 0.001 0.999 0.999 0.999]\n",
      "[0.001 0.001 0.999 0.999 0.999]\n",
      "[0.001 0.001 0.999 0.999 0.999]\n",
      "[0.001 0.001 0.999 0.999 0.999]\n",
      "[0.001 0.001 0.999 0.999 0.999]\n",
      "[0.001 0.001 0.999 0.999 0.999]\n",
      "[0.001 0.001 0.999 0.999 0.999]\n",
      "[0.001 0.001 0.999 0.999 0.999]\n",
      "[0.001 0.001 0.999 0.999 0.999]\n",
      "[0.001 0.001 0.999 0.999 0.999]\n",
      "[0.001 0.001 0.999 0.999 0.999]\n",
      "[0.001 0.001 0.999 0.999 0.999]\n",
      "[0.001 0.001 0.999 0.999 0.999]\n",
      "[0.001 0.001 0.999 0.999 0.999]\n",
      "[0.001 0.001 0.999 0.999 0.999]\n",
      "[0.001 0.001 0.999 0.999 0.999]\n",
      "[0.001 0.001 0.999 0.999 0.999]\n",
      "[0.001 0.001 0.999 0.999 0.999]\n",
      "[0.001 0.001 0.999 0.999 0.999]\n",
      "[0.001 0.001 0.999 0.999 0.999]\n",
      "[0.001 0.001 0.999 0.999 0.999]\n",
      "[0.001 0.001 0.999 0.999 0.999]\n",
      "[0.001 0.001 0.999 0.999 0.999]\n",
      "[0.001 0.001 0.999 0.999 0.999]\n",
      "[0.001 0.001 0.999 0.999 0.999]\n",
      "[0.001 0.001 0.999 0.999 0.999]\n",
      "[0.001 0.001 0.999 0.999 0.999]\n",
      "[0.001 0.001 0.999 0.999 0.999]\n",
      "[0.001 0.001 0.999 0.999 0.999]\n",
      "[0.001 0.001 0.999 0.999 0.999]\n",
      "[0.001 0.001 0.999 0.999 0.999]\n",
      "[0.001 0.001 0.999 0.999 0.999]\n",
      "[0.001 0.001 0.999 0.999 0.999]\n"
     ]
    },
    {
     "ename": "KeyboardInterrupt",
     "evalue": "",
     "output_type": "error",
     "traceback": [
      "\u001b[0;31m---------------------------------------------------------------------------\u001b[0m",
      "\u001b[0;31mKeyboardInterrupt\u001b[0m                         Traceback (most recent call last)",
      "\u001b[0;32m<ipython-input-93-8e018f24d0b7>\u001b[0m in \u001b[0;36m<module>\u001b[0;34m\u001b[0m\n\u001b[0;32m----> 1\u001b[0;31m \u001b[0mstein_update\u001b[0m\u001b[0;34m(\u001b[0m\u001b[0;36m1000\u001b[0m\u001b[0;34m)\u001b[0m\u001b[0;34m\u001b[0m\u001b[0;34m\u001b[0m\u001b[0m\n\u001b[0m",
      "\u001b[0;32m<ipython-input-92-d5210ce09b4c>\u001b[0m in \u001b[0;36mstein_update\u001b[0;34m(num_epochs)\u001b[0m\n\u001b[1;32m     23\u001b[0m                     \u001b[0mkernel_matrix\u001b[0m\u001b[0;34m[\u001b[0m\u001b[0mi\u001b[0m\u001b[0;34m]\u001b[0m\u001b[0;34m[\u001b[0m\u001b[0mj\u001b[0m\u001b[0;34m]\u001b[0m \u001b[0;34m=\u001b[0m \u001b[0mkernel_matrix\u001b[0m\u001b[0;34m[\u001b[0m\u001b[0mj\u001b[0m\u001b[0;34m]\u001b[0m\u001b[0;34m[\u001b[0m\u001b[0mi\u001b[0m\u001b[0;34m]\u001b[0m\u001b[0;34m\u001b[0m\u001b[0;34m\u001b[0m\u001b[0m\n\u001b[1;32m     24\u001b[0m         \u001b[0mnew_points\u001b[0m \u001b[0;34m=\u001b[0m \u001b[0mnp\u001b[0m\u001b[0;34m.\u001b[0m\u001b[0mzeros\u001b[0m\u001b[0;34m(\u001b[0m\u001b[0;34m(\u001b[0m\u001b[0mnum_points\u001b[0m\u001b[0;34m,\u001b[0m \u001b[0mnum_literals\u001b[0m\u001b[0;34m)\u001b[0m\u001b[0;34m)\u001b[0m\u001b[0;34m\u001b[0m\u001b[0;34m\u001b[0m\u001b[0m\n\u001b[0;32m---> 25\u001b[0;31m         \u001b[0mlikelihoods\u001b[0m \u001b[0;34m=\u001b[0m \u001b[0mlikelihood_clauses\u001b[0m\u001b[0;34m(\u001b[0m\u001b[0;34m)\u001b[0m\u001b[0;34m\u001b[0m\u001b[0;34m\u001b[0m\u001b[0m\n\u001b[0m\u001b[1;32m     26\u001b[0m         \u001b[0mderivatives_likelihood\u001b[0m \u001b[0;34m=\u001b[0m \u001b[0mnp\u001b[0m\u001b[0;34m.\u001b[0m\u001b[0mzeros\u001b[0m\u001b[0;34m(\u001b[0m\u001b[0;34m(\u001b[0m\u001b[0mnum_points\u001b[0m\u001b[0;34m,\u001b[0m \u001b[0mnum_literals\u001b[0m\u001b[0;34m)\u001b[0m\u001b[0;34m)\u001b[0m\u001b[0;34m\u001b[0m\u001b[0;34m\u001b[0m\u001b[0m\n\u001b[1;32m     27\u001b[0m         \u001b[0;32mfor\u001b[0m \u001b[0mi\u001b[0m \u001b[0;32min\u001b[0m \u001b[0mrange\u001b[0m\u001b[0;34m(\u001b[0m\u001b[0mnum_points\u001b[0m\u001b[0;34m)\u001b[0m\u001b[0;34m:\u001b[0m\u001b[0;34m\u001b[0m\u001b[0;34m\u001b[0m\u001b[0m\n",
      "\u001b[0;32m<ipython-input-36-fbe9c460e600>\u001b[0m in \u001b[0;36mlikelihood_clauses\u001b[0;34m()\u001b[0m\n\u001b[1;32m      7\u001b[0m             \u001b[0;32mfor\u001b[0m \u001b[0mliteral\u001b[0m \u001b[0;32min\u001b[0m \u001b[0mclauses\u001b[0m\u001b[0;34m[\u001b[0m\u001b[0mj\u001b[0m\u001b[0;34m]\u001b[0m\u001b[0;34m:\u001b[0m\u001b[0;34m\u001b[0m\u001b[0;34m\u001b[0m\u001b[0m\n\u001b[1;32m      8\u001b[0m                 \u001b[0;32mif\u001b[0m \u001b[0mliteral\u001b[0m \u001b[0;34m>\u001b[0m \u001b[0;36m0\u001b[0m\u001b[0;34m:\u001b[0m\u001b[0;34m\u001b[0m\u001b[0;34m\u001b[0m\u001b[0m\n\u001b[0;32m----> 9\u001b[0;31m                     \u001b[0mp\u001b[0m \u001b[0;34m=\u001b[0m \u001b[0mp\u001b[0m \u001b[0;34m*\u001b[0m \u001b[0;34m(\u001b[0m\u001b[0;36m1\u001b[0m \u001b[0;34m-\u001b[0m \u001b[0mpoints\u001b[0m\u001b[0;34m[\u001b[0m\u001b[0mi\u001b[0m\u001b[0;34m]\u001b[0m\u001b[0;34m[\u001b[0m\u001b[0mliteral\u001b[0m\u001b[0;34m-\u001b[0m\u001b[0;36m1\u001b[0m\u001b[0;34m]\u001b[0m\u001b[0;34m)\u001b[0m\u001b[0;34m\u001b[0m\u001b[0;34m\u001b[0m\u001b[0m\n\u001b[0m\u001b[1;32m     10\u001b[0m                 \u001b[0;32melse\u001b[0m\u001b[0;34m:\u001b[0m\u001b[0;34m\u001b[0m\u001b[0;34m\u001b[0m\u001b[0m\n\u001b[1;32m     11\u001b[0m                     \u001b[0mp\u001b[0m \u001b[0;34m=\u001b[0m \u001b[0mp\u001b[0m \u001b[0;34m*\u001b[0m \u001b[0mpoints\u001b[0m\u001b[0;34m[\u001b[0m\u001b[0mi\u001b[0m\u001b[0;34m]\u001b[0m\u001b[0;34m[\u001b[0m\u001b[0;34m-\u001b[0m\u001b[0mliteral\u001b[0m\u001b[0;34m-\u001b[0m\u001b[0;36m1\u001b[0m\u001b[0;34m]\u001b[0m\u001b[0;34m\u001b[0m\u001b[0;34m\u001b[0m\u001b[0m\n",
      "\u001b[0;31mKeyboardInterrupt\u001b[0m: "
     ]
    }
   ],
   "source": [
    "stein_update(1000)"
   ]
  },
  {
   "cell_type": "code",
   "execution_count": 51,
   "metadata": {},
   "outputs": [],
   "source": [
    "x = np.asarray([1, 2])"
   ]
  },
  {
   "cell_type": "code",
   "execution_count": 54,
   "metadata": {},
   "outputs": [
    {
     "data": {
      "text/plain": [
       "2.23606797749979"
      ]
     },
     "execution_count": 54,
     "metadata": {},
     "output_type": "execute_result"
    }
   ],
   "source": [
    "LA.norm(x)"
   ]
  },
  {
   "cell_type": "code",
   "execution_count": null,
   "metadata": {},
   "outputs": [],
   "source": []
  }
 ],
 "metadata": {
  "kernelspec": {
   "display_name": "Python 3",
   "language": "python",
   "name": "python3"
  },
  "language_info": {
   "codemirror_mode": {
    "name": "ipython",
    "version": 3
   },
   "file_extension": ".py",
   "mimetype": "text/x-python",
   "name": "python",
   "nbconvert_exporter": "python",
   "pygments_lexer": "ipython3",
   "version": "3.7.6"
  }
 },
 "nbformat": 4,
 "nbformat_minor": 4
}
