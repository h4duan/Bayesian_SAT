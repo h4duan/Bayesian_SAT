{
 "cells": [
  {
   "cell_type": "code",
   "execution_count": 1,
   "metadata": {},
   "outputs": [],
   "source": [
    "import numpy as np\n",
    "import matplotlib.pyplot as plt\n",
    "import random"
   ]
  },
  {
   "cell_type": "code",
   "execution_count": 2,
   "metadata": {},
   "outputs": [],
   "source": [
    "clauses = []\n",
    "\n",
    "num_literal = 0\n",
    "num_clauses = 0\n",
    "\n",
    "with open('SAT2018/Biere/sdiv15prop.cnf') as file:\n",
    "    for line in file:\n",
    "        if(line[0] == 'p'):\n",
    "            l = line.split()\n",
    "            num_literal = int(l[2])\n",
    "            num_clauses = int(l[3])\n",
    "        if(line[0] != 'p' and line[0] != '%' and line[0] != 'c'):\n",
    "            clause = [int(digit) for digit in line.split()]\n",
    "            clauses.append(clause[:-1])"
   ]
  },
  {
   "cell_type": "code",
   "execution_count": 3,
   "metadata": {},
   "outputs": [],
   "source": [
    "def first(a, b):\n",
    "    return a / (a + b)\n",
    "\n",
    "def second(a, b):\n",
    "    return a * (a + 1) / ((a + b + 1) * (a + b))\n",
    "\n",
    "def solve(first, second):\n",
    "    tau =  (second - first)/(first**2 - second)\n",
    "    a = first * tau\n",
    "    b = tau - a\n",
    "    return a, b"
   ]
  },
  {
   "cell_type": "code",
   "execution_count": 4,
   "metadata": {},
   "outputs": [
    {
     "data": {
      "text/plain": [
       "0.375"
      ]
     },
     "execution_count": 4,
     "metadata": {},
     "output_type": "execute_result"
    }
   ],
   "source": [
    "second(0.5, 0.5)"
   ]
  },
  {
   "cell_type": "code",
   "execution_count": 5,
   "metadata": {},
   "outputs": [],
   "source": [
    "epochs = 100"
   ]
  },
  {
   "cell_type": "code",
   "execution_count": 6,
   "metadata": {},
   "outputs": [],
   "source": [
    "first_moment = np.asarray([0.5] * num_literal)\n",
    "second_moment = np.asarray([0.375] * num_literal)\n",
    "def update_clause(input_clause):\n",
    "    length_clause = len(input_clause)\n",
    "    \n",
    "    p = 1.0\n",
    "    \n",
    "    for i in range(length_clause):\n",
    "        lit = input_clause[i]\n",
    "        if(lit > 0):\n",
    "            p = p * (1 - first_moment[abs(lit)-1])\n",
    "        else:\n",
    "            p = p * first_moment[abs(lit)-1]\n",
    "\n",
    "    \n",
    "    for i in range(length_clause):\n",
    "        lit = input_clause[i]\n",
    "        M1 = first_moment[abs(lit)-1]\n",
    "        left_extre = 0.001\n",
    "        right_extre = 0.999\n",
    "        if(M1 < left_extre or M1 > right_extre):\n",
    "            continue\n",
    "        M2 = second_moment[abs(lit)-1]\n",
    "        #M3 = third_moment[abs(lit)-1]\n",
    "\n",
    "\n",
    "        #epsilon = 0.1\n",
    "\n",
    "        if(lit > 0):\n",
    "            p_omit = p / (1 - M1)\n",
    "            first_moment[abs(lit)-1] =  (M1 - p_omit * (M1 - M2))/ (1 - p)\n",
    "            #second_moment[abs(lit)-1] = (M2 - p_omit * (M2 - M3)) / (1 - p)\n",
    "            left = first_moment[abs(lit)-1]**2\n",
    "            right = first_moment[abs(lit)-1]\n",
    "            second_moment[abs(lit)-1] = (left + right)/2\n",
    "            #second_moment[abs(lit)-1]  = random.uniform(left, right)\n",
    "        else:\n",
    "            p_omit = p / M1\n",
    "            first_moment[abs(lit)-1] = (M1 - p_omit * M2) / (1 - p)\n",
    "            left = first_moment[abs(lit)-1]**2\n",
    "            right = first_moment[abs(lit)-1]\n",
    "            #second_moment[abs(lit)-1] = np.random.beta(5, 5) * (right - left) + left\n",
    "            #second_moment[abs(lit)-1] = np.random.uniform(left, right)\n",
    "            second_moment[abs(lit)-1] = (left + right)/2\n",
    "            #second_moment[abs(lit)-1]  = random.uniform(left, right)\n",
    "\n",
    "\n",
    "        #print(first_moment[abs(lit)-1], second_moment[abs(lit)-1])"
   ]
  },
  {
   "cell_type": "code",
   "execution_count": 7,
   "metadata": {},
   "outputs": [],
   "source": [
    "satisfied = np.zeros(epochs)"
   ]
  },
  {
   "cell_type": "code",
   "execution_count": 8,
   "metadata": {},
   "outputs": [],
   "source": [
    "def satisfied_clauses():\n",
    "    polarity = np.zeros(num_literal)\n",
    "    for k in range(num_literal):\n",
    "        if(first_moment[k] > 0.5):\n",
    "            polarity[k] = 1\n",
    "        else:\n",
    "            polarity[k] = -1\n",
    "    num_satisfied = 0\n",
    "    for k in range(num_clauses):\n",
    "        clause = clauses[k]\n",
    "        for l in clause:\n",
    "            if(l * polarity[abs(l) - 1] > 0):\n",
    "                num_satisfied += 1\n",
    "                break\n",
    "    return num_satisfied"
   ]
  },
  {
   "cell_type": "code",
   "execution_count": 9,
   "metadata": {},
   "outputs": [],
   "source": [
    "for k in range(epochs):\n",
    "    for clause in clauses:\n",
    "        update_clause(clause)\n",
    "    satisfied[k] = satisfied_clauses()"
   ]
  },
  {
   "cell_type": "code",
   "execution_count": 10,
   "metadata": {},
   "outputs": [
    {
     "data": {
      "text/plain": [
       "array([7621., 8074., 8629., 8790., 8908., 8970., 9006., 9025., 9047.,\n",
       "       9062., 9074., 9086., 9098., 9100., 9102., 9104., 9104., 9105.,\n",
       "       9105., 9105., 9107., 9109., 9109., 9109., 9109., 9110., 9112.,\n",
       "       9112., 9113., 9114., 9114., 9115., 9115., 9115., 9115., 9115.,\n",
       "       9116., 9116., 9116., 9116., 9116., 9116., 9116., 9116., 9116.,\n",
       "       9116., 9116., 9116., 9116., 9116., 9116., 9116., 9116., 9116.,\n",
       "       9116., 9116., 9116., 9116., 9116., 9116., 9116., 9116., 9116.,\n",
       "       9116., 9116., 9116., 9116., 9116., 9116., 9116., 9116., 9116.,\n",
       "       9116., 9116., 9116., 9116., 9116., 9116., 9116., 9116., 9116.,\n",
       "       9116., 9116., 9116., 9116., 9116., 9116., 9116., 9116., 9116.,\n",
       "       9116., 9116., 9116., 9116., 9116., 9116., 9116., 9116., 9116.,\n",
       "       9116.])"
      ]
     },
     "execution_count": 10,
     "metadata": {},
     "output_type": "execute_result"
    }
   ],
   "source": [
    "satisfied"
   ]
  },
  {
   "cell_type": "code",
   "execution_count": 67,
   "metadata": {},
   "outputs": [],
   "source": [
    "import matplotlib.pyplot as plt\n"
   ]
  },
  {
   "cell_type": "code",
   "execution_count": 68,
   "metadata": {},
   "outputs": [
    {
     "data": {
      "image/png": "[encoded data removed]",
      "text/plain": [
       "<Figure size 432x288 with 1 Axes>"
      ]
     },
     "metadata": {
      "needs_background": "light"
     },
     "output_type": "display_data"
    }
   ],
   "source": [
    "plt.plot(first_moment, 'ro')\n",
    "plt.show()"
   ]
  },
  {
   "cell_type": "code",
   "execution_count": 69,
   "metadata": {},
   "outputs": [
    {
     "data": {
      "text/plain": [
       "array([5.57299547e-04, 6.77418642e-04, 9.99000053e-01, 9.99317791e-04,\n",
       "       9.99466229e-01, 9.99346257e-01, 9.99330414e-01, 9.65787373e-04,\n",
       "       9.99480242e-01, 9.99464602e-01, 9.99040697e-01, 8.89612532e-04,\n",
       "       6.32560943e-04, 9.99442703e-01, 9.99000323e-01, 9.99351227e-01,\n",
       "       9.99122625e-01, 2.83780068e-01, 9.99430585e-01, 9.99314295e-01,\n",
       "       9.99422728e-01, 6.69734469e-04, 5.92601337e-04, 7.28836658e-04,\n",
       "       9.99000390e-01, 9.99120678e-01, 9.99381302e-01, 9.99353124e-01,\n",
       "       9.99099554e-01, 9.14404990e-04, 9.99079477e-01, 9.99420438e-01,\n",
       "       9.73237038e-04, 6.75867769e-04, 6.36403964e-04, 9.99227560e-01,\n",
       "       9.99390881e-01, 7.22351748e-04, 9.99023576e-01, 9.99096343e-01,\n",
       "       9.99116801e-01, 7.21378155e-04, 9.99190507e-01, 8.13984528e-04,\n",
       "       9.99980502e-04, 9.99009948e-01, 9.99302341e-01, 9.99139079e-01,\n",
       "       9.99880450e-04, 9.99050258e-01, 9.99303349e-01, 9.99462822e-01,\n",
       "       9.99285161e-01, 5.70493567e-04, 9.99049282e-01, 9.99355350e-01,\n",
       "       9.99000025e-01, 9.61375809e-04, 9.99120726e-01, 7.88732819e-04,\n",
       "       9.99033423e-01, 9.79588878e-04, 7.00338874e-04, 9.99257589e-01,\n",
       "       9.99466844e-01, 9.99000514e-01, 9.99858665e-04, 6.66163545e-01,\n",
       "       5.90567964e-04, 5.91982704e-04, 9.99386455e-01, 9.99166329e-01,\n",
       "       5.35573146e-04, 9.99231191e-01, 7.58754246e-04, 5.55334531e-04,\n",
       "       8.39164379e-04, 9.99866411e-04, 9.99420713e-01, 6.28805817e-04,\n",
       "       9.99431797e-01, 9.99394381e-01, 9.99160237e-01, 9.99175635e-01,\n",
       "       8.79247183e-04, 9.99390319e-01, 8.02633003e-04, 9.99042457e-01,\n",
       "       9.99171716e-01, 7.91021092e-04, 9.99057482e-01, 9.99138128e-01,\n",
       "       7.19095759e-04, 2.97736994e-02, 5.64968149e-04, 6.82660724e-04,\n",
       "       5.82866341e-04, 9.99101378e-01, 6.94193545e-04, 9.99147156e-01,\n",
       "       9.99003631e-01, 9.99191410e-01, 9.99195438e-01, 9.99293922e-01,\n",
       "       6.66382880e-01, 9.99379625e-01, 9.99318456e-01, 8.87301213e-04,\n",
       "       9.99026609e-01, 9.26728226e-04, 9.98956686e-04, 9.99432338e-01,\n",
       "       9.99266322e-01, 6.53658523e-04, 9.99865580e-04, 9.32934009e-04,\n",
       "       9.99005829e-01, 6.82969269e-04, 6.06868999e-04, 9.99240309e-01,\n",
       "       9.43790074e-04, 6.27779312e-04, 7.01497859e-04, 9.99000013e-01,\n",
       "       9.99000047e-01, 9.99256058e-01, 9.99000272e-01, 9.33343570e-04,\n",
       "       9.99796538e-04, 9.99046387e-01, 9.99883659e-04, 3.25866190e-02,\n",
       "       9.99041638e-01, 9.99000185e-01, 9.99020414e-01, 7.12171755e-04,\n",
       "       9.99301332e-01, 6.84994200e-04, 9.99046189e-01, 9.98930314e-04,\n",
       "       8.35790543e-04, 9.99773225e-04, 9.58563690e-04, 9.99098398e-01,\n",
       "       9.99480932e-01, 6.20770078e-04, 9.99000104e-01, 5.86841474e-04,\n",
       "       6.42451797e-04, 9.99062176e-01, 9.99300688e-01, 9.99423565e-01,\n",
       "       9.99941236e-04, 7.06148714e-04, 9.99068391e-01, 7.12572738e-04,\n",
       "       9.99301745e-01, 5.96614289e-04, 9.99032888e-01, 9.99316036e-01,\n",
       "       8.76696941e-04, 9.99000532e-01, 9.99353132e-01, 9.99005480e-01,\n",
       "       9.99356523e-01, 5.27704408e-04, 9.99808112e-04, 9.99125554e-01,\n",
       "       9.99412755e-01, 8.51079380e-04, 8.15560346e-04, 9.99310421e-01,\n",
       "       9.99091194e-01, 9.99384407e-01, 9.46637499e-04, 9.99287408e-01,\n",
       "       6.18688995e-04, 6.24739876e-04, 8.74978340e-04, 9.99205577e-01,\n",
       "       9.99192331e-01, 9.99201031e-01, 9.99337998e-01, 7.85811057e-04,\n",
       "       9.05688892e-04, 9.99111701e-01, 9.99226439e-01, 9.99538678e-04,\n",
       "       9.60314123e-04, 1.99517511e-01, 9.99209265e-01, 9.99227382e-01,\n",
       "       9.99598493e-04, 9.99032706e-01, 7.82391870e-04, 5.90128803e-04,\n",
       "       9.99077983e-01, 6.60801703e-04, 9.99000003e-01, 9.99394978e-01,\n",
       "       9.81179233e-04, 9.99083773e-01, 5.25350523e-04, 9.65415916e-04,\n",
       "       5.73870335e-04, 9.99053994e-01, 9.99289531e-01, 9.80935468e-04,\n",
       "       9.99066408e-01, 7.82518809e-04, 9.99044011e-01, 9.99008093e-01,\n",
       "       9.99368206e-01, 9.99088627e-01, 7.39262025e-04, 9.99280265e-01,\n",
       "       9.99129463e-01, 5.58808651e-04, 9.99043229e-01, 5.44666937e-04,\n",
       "       8.16595579e-04, 9.99164130e-01, 8.80304269e-04, 8.59557634e-04,\n",
       "       9.99200923e-01, 9.67125237e-04, 9.99467177e-01, 7.84604634e-04,\n",
       "       9.41020859e-04, 9.99449555e-01, 9.99179491e-01, 8.64624192e-04,\n",
       "       6.67480861e-04, 8.30889319e-04, 5.98265099e-04, 5.49606417e-04,\n",
       "       9.26220325e-04, 9.99024631e-01, 9.99457884e-01, 9.99443676e-01,\n",
       "       9.99347087e-01, 9.99036888e-01, 6.82294392e-04, 9.99818132e-04,\n",
       "       8.02713346e-04, 8.71543441e-04, 9.99973221e-04, 9.99074681e-01,\n",
       "       7.99727090e-04, 8.22788179e-04])"
      ]
     },
     "execution_count": 69,
     "metadata": {},
     "output_type": "execute_result"
    }
   ],
   "source": [
    "first_moment"
   ]
  },
  {
   "cell_type": "code",
   "execution_count": 321,
   "metadata": {},
   "outputs": [
    {
     "data": {
      "text/plain": [
       "219071"
      ]
     },
     "execution_count": 321,
     "metadata": {},
     "output_type": "execute_result"
    }
   ],
   "source": [
    "num_clauses"
   ]
  },
  {
   "cell_type": "code",
   "execution_count": 281,
   "metadata": {},
   "outputs": [
    {
     "data": {
      "image/png": "[encoded data removed]",
      "text/plain": [
       "<Figure size 432x288 with 1 Axes>"
      ]
     },
     "metadata": {
      "needs_background": "light"
     },
     "output_type": "display_data"
    }
   ],
   "source": [
    "x = range(20)\n",
    "plt.plot(x, satisfied, label =\"non parametric\")\n",
    "plt.plot(x, satisfied1, label = \"beta\")\n",
    "plt.xlabel(\"Iterations\")\n",
    "plt.ylabel(\"Number of clause satisfied\")\n",
    "plt.legend()\n",
    "plt.show()"
   ]
  },
  {
   "cell_type": "code",
   "execution_count": null,
   "metadata": {},
   "outputs": [],
   "source": []
  }
 ],
 "metadata": {
  "kernelspec": {
   "display_name": "Python 3",
   "language": "python",
   "name": "python3"
  },
  "language_info": {
   "codemirror_mode": {
    "name": "ipython",
    "version": 3
   },
   "file_extension": ".py",
   "mimetype": "text/x-python",
   "name": "python",
   "nbconvert_exporter": "python",
   "pygments_lexer": "ipython3",
   "version": "3.7.6"
  }
 },
 "nbformat": 4,
 "nbformat_minor": 4
}
