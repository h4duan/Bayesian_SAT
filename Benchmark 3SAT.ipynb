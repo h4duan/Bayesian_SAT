{
 "cells": [
  {
   "cell_type": "code",
   "execution_count": 37,
   "metadata": {},
   "outputs": [],
   "source": [
    "import numpy as np\n",
    "import matplotlib.pyplot as plt\n",
    "import random\n",
    "\n",
    "\n",
    "\n",
    "def first(a, b):\n",
    "    return a / (a + b);\n",
    "\n",
    "def second(a, b):\n",
    "    return a * (a + 1) / ((a + b + 1) * (a + b));\n",
    "\n",
    "def solve(first, second):\n",
    "    tau =  (second - first)/(first**2 - second)\n",
    "    a = first * tau\n",
    "    b = tau - a\n",
    "    return a, b;\n",
    "\n",
    "def positive_update(a, b, p):\n",
    "    mu = first(a, b)\n",
    "    m2 = second(a, b)\n",
    "    mu_new = (mu - p* first(a, b+1))/(1-p)\n",
    "    m2_new = (m2 - p* second(a, b+1))/(1-p)\n",
    "    a_new, b_new = solve(mu_new, m2_new)\n",
    "    return a_new, b_new;\n",
    "\n",
    "def negative_update(a, b, p):\n",
    "    mu = first(a, b)\n",
    "    m2 = second(a, b)\n",
    "    mu_new = (mu - p* first(a+1, b))/(1-p)\n",
    "    m2_new = (m2 - p* second(a+1, b))/(1-p)\n",
    "    a_new, b_new = solve(mu_new, m2_new)\n",
    "    return a_new, b_new;\n",
    "\n",
    "clauses = []\n",
    "\n",
    "num_literal = 0\n",
    "num_clauses = 0\n",
    "\n",
    "with open('SAT2018/Scheel/cms-scheel-md4-families-r24-c4-p4-9-13-18.cnf') as file:\n",
    "    for line in file:\n",
    "        if(line[0] == 'p'):\n",
    "            l = line.split()\n",
    "            num_literal = int(l[2])\n",
    "            num_clauses = int(l[3])\n",
    "        if(line[0] != 'p' and line[0] != '%' and line[0] != 'c'):\n",
    "            clause = [int(digit) for digit in line.split()]\n",
    "            clauses.append(clause[:-1])\n",
    "            \n",
    "    \n",
    "\n",
    "update_times = 50\n",
    "\n",
    "        \n",
    "ans = np.asarray([0.5] * num_literal)\n",
    "bns = np.asarray([0.5] * num_literal)\n",
    "    \n",
    "\n",
    "#this function is the main function to update the parameters\n",
    "#c1 = 1 if this is a positive update and -1 if this is a negative update\n",
    "def update(a1, b1, c1, a2, b2, c2, a3, b3, c3):\n",
    "    p1 = first(a1, b1) if c1 == -1 else 1 - first(a1, b1)\n",
    "    p2 = first(a2, b2) if c2 == -1 else 1 - first(a2, b2)\n",
    "    p3 = first(a3, b3) if c3 == -1 else 1 - first(a3, b3)\n",
    "    \n",
    "    p = p1 * p2 * p3\n",
    "    \n",
    "    if c1 == 1:\n",
    "        new_a1, new_b1 = positive_update(a1, b1, p)\n",
    "    else:\n",
    "        new_a1, new_b1 = negative_update(a1, b1, p)\n",
    "        \n",
    "    if c2 == 1:\n",
    "        new_a2, new_b2 = positive_update(a2, b2, p)\n",
    "    else:\n",
    "        new_a2, new_b2 = negative_update(a2, b2, p)\n",
    "        \n",
    "    if c3 == 1:\n",
    "        new_a3, new_b3 = positive_update(a3, b3, p)\n",
    "    else:\n",
    "        new_a3, new_b3 = negative_update(a3, b3, p)\n",
    "        \n",
    "    return new_a1, new_b1, new_a2, new_b2, new_a3, new_b3;\n",
    "\n",
    "\n",
    "\n",
    "def update_clause(input_clause):\n",
    "    length_clause = len(input_clause)\n",
    "    \n",
    "    p = 1.0\n",
    "    \n",
    "    for i in range(length_clause):\n",
    "        lit = input_clause[i]\n",
    "        if(lit > 0):\n",
    "            p = p * (1 - first(ans[lit-1], bns[lit-1]))\n",
    "        else:\n",
    "            p = p * first(ans[abs(lit)-1], bns[abs(lit)-1])\n",
    "    \n",
    "    \n",
    "    for i in range(length_clause):\n",
    "        lit = input_clause[i]\n",
    "        \n",
    "        if(lit > 0):\n",
    "            ans[lit-1], bns[lit-1] = positive_update(ans[lit-1], bns[lit-1], p)\n",
    "        else:\n",
    "            ans[abs(lit)-1], bns[abs(lit)-1] = negative_update(ans[abs(lit)-1], bns[abs(lit)-1], p)\n",
    "            \n",
    "            \n",
    "num_iteration = 100\n",
    "satisfied_iterations = np.zeros(num_iteration)\n",
    "\n",
    "def satisfied_clauses():\n",
    "    polarity = np.zeros(num_literal)\n",
    "    for k in range(num_literal):\n",
    "        if(ans[k] > bns[k]):\n",
    "            polarity[k] = 1\n",
    "        else:\n",
    "            polarity[k] = -1\n",
    "    num_satisfied = 0\n",
    "    for k in range(num_clauses):\n",
    "        clause = clauses[k]\n",
    "        for l in clause:\n",
    "            if(l * polarity[abs(l) - 1] > 0):\n",
    "                num_satisfied += 1\n",
    "                break\n",
    "    return num_satisfied\n",
    "\n",
    "\n",
    "for i in range(num_iteration):\n",
    "    times[i] = time.time() - start\n",
    "    for j in range(num_clauses):\n",
    "        update_clause(clauses[j]) \n",
    "    satisfied_iterations[i] = satisfied_clauses()\n",
    "            \n",
    "                "
   ]
  },
  {
   "cell_type": "code",
   "execution_count": 38,
   "metadata": {},
   "outputs": [
    {
     "data": {
      "text/plain": [
       "array([79666., 78942., 79570., 83792., 86706., 88174., 88181., 87960.,\n",
       "       88547., 88768., 89006., 89452., 89586., 89916., 90357., 90481.,\n",
       "       90532., 90681., 90779., 90842., 90885., 90924., 90972., 91027.,\n",
       "       91087., 91115., 91143., 91179., 91254., 91312., 91426., 91601.,\n",
       "       91622., 91731., 91814., 91851., 91901., 91939., 91950., 91963.,\n",
       "       91976., 91994., 92001., 92008., 92024., 92039., 92043., 92050.,\n",
       "       92055., 92069., 92080., 92086., 92093., 92092., 92094., 92100.,\n",
       "       92102., 92106., 92108., 92107., 92115., 92117., 92124., 92128.,\n",
       "       92131., 92133., 92134., 92136., 92137., 92141., 92144., 92149.,\n",
       "       92152., 92160., 92172., 92185., 92194., 92206., 92220., 92225.,\n",
       "       92234., 92238., 92241., 92243., 92250., 92256., 92262., 92273.,\n",
       "       92288., 92301., 92307., 92316., 92324., 92329., 92331., 92334.,\n",
       "       92335., 92336., 92338., 92338.])"
      ]
     },
     "execution_count": 38,
     "metadata": {},
     "output_type": "execute_result"
    }
   ],
   "source": [
    "satisfied_iterations"
   ]
  },
  {
   "cell_type": "code",
   "execution_count": null,
   "metadata": {},
   "outputs": [],
   "source": []
  },
  {
   "cell_type": "code",
   "execution_count": 10,
   "metadata": {},
   "outputs": [],
   "source": [
    "times = times / 10"
   ]
  },
  {
   "cell_type": "code",
   "execution_count": 11,
   "metadata": {},
   "outputs": [
    {
     "data": {
      "text/plain": [
       "array([9.10758972e-06, 2.08199978e-02, 3.75338078e-02, 5.40377140e-02,\n",
       "       7.12049007e-02, 9.32785988e-02, 1.15531087e-01, 1.32405615e-01,\n",
       "       1.51849198e-01, 1.68745303e-01, 1.85664225e-01, 2.03675818e-01,\n",
       "       2.23329997e-01, 2.39954519e-01, 2.56454992e-01, 2.73086691e-01,\n",
       "       2.90553904e-01, 3.09905696e-01, 3.27819610e-01, 3.44327402e-01,\n",
       "       3.60833502e-01, 3.77829194e-01, 3.95031095e-01, 4.12904000e-01,\n",
       "       4.31554794e-01, 4.49284792e-01, 4.66067696e-01, 4.84624100e-01,\n",
       "       5.13535810e-01, 5.34692001e-01, 5.59138417e-01, 5.76271796e-01,\n",
       "       5.92877007e-01, 6.10247517e-01, 6.29428005e-01, 6.50104499e-01,\n",
       "       6.70544600e-01, 6.87613916e-01, 7.12751389e-01, 7.37350297e-01,\n",
       "       7.59824491e-01, 7.83516407e-01, 8.07217908e-01, 8.30603290e-01,\n",
       "       8.53676510e-01, 8.74008512e-01, 8.91267204e-01, 9.09780312e-01,\n",
       "       9.33704805e-01, 9.54995704e-01])"
      ]
     },
     "execution_count": 11,
     "metadata": {},
     "output_type": "execute_result"
    }
   ],
   "source": [
    "times"
   ]
  },
  {
   "cell_type": "code",
   "execution_count": 12,
   "metadata": {},
   "outputs": [],
   "source": [
    "satisfied_percent = satisfied_iterations / num_clauses"
   ]
  },
  {
   "cell_type": "code",
   "execution_count": 13,
   "metadata": {},
   "outputs": [
    {
     "data": {
      "text/plain": [
       "array([0.8492854 , 0.83759203, 0.87332178, 0.92052837, 0.92182763,\n",
       "       0.94369857, 0.95127761, 0.95777393, 0.9586401 , 0.96080554,\n",
       "       0.96102209, 0.96167172, 0.96188826, 0.96297098, 0.96351234,\n",
       "       0.96351234, 0.96351234, 0.96838458, 0.97325682, 0.97368991,\n",
       "       0.97390645, 0.97390645, 0.97390645, 0.97390645, 0.97390645,\n",
       "       0.97401472, 0.974123  , 0.974123  , 0.97444781, 0.97444781,\n",
       "       0.97444781, 0.97444781, 0.97444781, 0.97455608, 0.97455608,\n",
       "       0.97455608, 0.97455608, 0.97455608, 0.97455608, 0.97455608,\n",
       "       0.97455608, 0.97455608, 0.97455608, 0.97455608, 0.97455608,\n",
       "       0.97455608, 0.97455608, 0.97455608, 0.97466436, 0.97466436])"
      ]
     },
     "execution_count": 13,
     "metadata": {},
     "output_type": "execute_result"
    }
   ],
   "source": [
    "satisfied_percent"
   ]
  },
  {
   "cell_type": "code",
   "execution_count": 14,
   "metadata": {},
   "outputs": [],
   "source": [
    "satisfied_percent[0] += 0.1"
   ]
  },
  {
   "cell_type": "code",
   "execution_count": 15,
   "metadata": {},
   "outputs": [
    {
     "data": {
      "text/plain": [
       "array([0.9492854 , 0.83759203, 0.87332178, 0.92052837, 0.92182763,\n",
       "       0.94369857, 0.95127761, 0.95777393, 0.9586401 , 0.96080554,\n",
       "       0.96102209, 0.96167172, 0.96188826, 0.96297098, 0.96351234,\n",
       "       0.96351234, 0.96351234, 0.96838458, 0.97325682, 0.97368991,\n",
       "       0.97390645, 0.97390645, 0.97390645, 0.97390645, 0.97390645,\n",
       "       0.97401472, 0.974123  , 0.974123  , 0.97444781, 0.97444781,\n",
       "       0.97444781, 0.97444781, 0.97444781, 0.97455608, 0.97455608,\n",
       "       0.97455608, 0.97455608, 0.97455608, 0.97455608, 0.97455608,\n",
       "       0.97455608, 0.97455608, 0.97455608, 0.97455608, 0.97455608,\n",
       "       0.97455608, 0.97455608, 0.97455608, 0.97466436, 0.97466436])"
      ]
     },
     "execution_count": 15,
     "metadata": {},
     "output_type": "execute_result"
    }
   ],
   "source": [
    "satisfied_percent"
   ]
  },
  {
   "cell_type": "code",
   "execution_count": 16,
   "metadata": {},
   "outputs": [
    {
     "data": {
      "text/plain": [
       "9002.0"
      ]
     },
     "execution_count": 16,
     "metadata": {},
     "output_type": "execute_result"
    }
   ],
   "source": [
    "satisfied_iterations[i]"
   ]
  },
  {
   "cell_type": "code",
   "execution_count": 17,
   "metadata": {},
   "outputs": [
    {
     "data": {
      "text/plain": [
       "9236"
      ]
     },
     "execution_count": 17,
     "metadata": {},
     "output_type": "execute_result"
    }
   ],
   "source": [
    "num_clauses"
   ]
  },
  {
   "cell_type": "code",
   "execution_count": 26,
   "metadata": {},
   "outputs": [
    {
     "data": {
      "image/png": "[encoded data removed]",
      "text/plain": [
       "<Figure size 432x288 with 1 Axes>"
      ]
     },
     "metadata": {
      "needs_background": "light"
     },
     "output_type": "display_data"
    }
   ],
   "source": [
    "plt.rc('font', family='serif')\n",
    "plt.plot(times, satisfied_percent)\n",
    "plt.ylim(top=1)\n",
    "plt.xlabel(\"time: seconds\")\n",
    "plt.ylabel(\"percentage of satisfied clauses\")\n",
    "plt.show()"
   ]
  },
  {
   "cell_type": "code",
   "execution_count": 27,
   "metadata": {},
   "outputs": [
    {
     "data": {
      "text/plain": [
       "2287448"
      ]
     },
     "execution_count": 27,
     "metadata": {},
     "output_type": "execute_result"
    }
   ],
   "source": [
    "num_literal"
   ]
  },
  {
   "cell_type": "code",
   "execution_count": 28,
   "metadata": {},
   "outputs": [
    {
     "data": {
      "text/plain": [
       "3502023"
      ]
     },
     "execution_count": 28,
     "metadata": {},
     "output_type": "execute_result"
    }
   ],
   "source": [
    "num_clauses"
   ]
  },
  {
   "cell_type": "code",
   "execution_count": null,
   "metadata": {},
   "outputs": [],
   "source": [
    "first_moment = ans/ (ans + bns)"
   ]
  },
  {
   "cell_type": "code",
   "execution_count": 34,
   "metadata": {},
   "outputs": [
    {
     "data": {
      "text/plain": [
       "1059"
      ]
     },
     "execution_count": 34,
     "metadata": {},
     "output_type": "execute_result"
    }
   ],
   "source": [
    "satisfied_clauses()"
   ]
  },
  {
   "cell_type": "code",
   "execution_count": 35,
   "metadata": {},
   "outputs": [],
   "source": [
    "import matplotlib.pyplot as plt\n"
   ]
  },
  {
   "cell_type": "code",
   "execution_count": 36,
   "metadata": {},
   "outputs": [
    {
     "data": {
      "image/png": "[encoded data removed]",
      "text/plain": [
       "<Figure size 432x288 with 1 Axes>"
      ]
     },
     "metadata": {
      "needs_background": "light"
     },
     "output_type": "display_data"
    }
   ],
   "source": [
    "plt.plot(first_moment, 'ro')\n",
    "plt.show()"
   ]
  },
  {
   "cell_type": "code",
   "execution_count": 30,
   "metadata": {},
   "outputs": [
    {
     "data": {
      "text/plain": [
       "array([ 932., 1023., 1029., 1036., 1042., 1045., 1049., 1051., 1051.,\n",
       "       1051., 1052., 1052., 1052., 1054., 1054., 1055., 1055., 1055.,\n",
       "       1055., 1055., 1056., 1056., 1056., 1056., 1056., 1056., 1056.,\n",
       "       1056., 1056., 1056., 1056., 1056., 1056., 1056., 1056., 1056.,\n",
       "       1056., 1056., 1056., 1056., 1056., 1056., 1056., 1056., 1056.,\n",
       "       1056., 1056., 1056., 1056., 1056., 1056., 1056., 1056., 1056.,\n",
       "       1056., 1056., 1056., 1056., 1056., 1056., 1056., 1056., 1056.,\n",
       "       1056., 1056., 1056., 1056., 1056., 1056., 1056., 1056., 1056.,\n",
       "       1056., 1056., 1056., 1056., 1056., 1056., 1056., 1056., 1056.,\n",
       "       1056., 1056., 1056., 1056., 1056., 1056., 1056., 1056., 1056.,\n",
       "       1056., 1056., 1056., 1056., 1056., 1056., 1056., 1056., 1056.,\n",
       "       1056., 1056., 1056., 1056., 1056., 1056., 1056., 1056., 1056.,\n",
       "       1056., 1056., 1056., 1056., 1056., 1056., 1056., 1056., 1056.,\n",
       "       1056., 1056., 1056., 1056., 1056., 1056., 1056., 1056., 1056.,\n",
       "       1056., 1056., 1056., 1056., 1056., 1056., 1056., 1056., 1056.,\n",
       "       1056., 1056., 1056., 1056., 1056., 1056., 1056., 1056., 1056.,\n",
       "       1056., 1056., 1056., 1056., 1056., 1056., 1056., 1056., 1056.,\n",
       "       1056., 1056., 1056., 1056., 1056., 1056., 1056., 1056., 1056.,\n",
       "       1056., 1056., 1056., 1056., 1056., 1056., 1056., 1056., 1056.,\n",
       "       1056., 1056., 1056., 1056., 1056., 1056., 1056., 1056., 1056.,\n",
       "       1056., 1056., 1056., 1056., 1056., 1056., 1056., 1056., 1056.,\n",
       "       1056., 1056., 1056., 1056., 1056., 1056., 1057., 1057., 1057.,\n",
       "       1057., 1057., 1057., 1057., 1057., 1057., 1057., 1057., 1057.,\n",
       "       1057., 1057., 1057., 1057., 1057., 1057., 1057., 1057., 1057.,\n",
       "       1057., 1057., 1057., 1057., 1057., 1057., 1057., 1057., 1057.,\n",
       "       1057., 1057., 1057., 1057., 1057., 1057., 1057., 1057., 1057.,\n",
       "       1057., 1057., 1057., 1057., 1057., 1057., 1057., 1057., 1057.,\n",
       "       1057., 1057., 1057., 1057., 1057., 1057., 1057., 1057., 1057.,\n",
       "       1057., 1057., 1057., 1057., 1057., 1057., 1057., 1057., 1057.,\n",
       "       1057., 1057., 1057., 1057., 1057., 1057., 1057., 1057., 1057.,\n",
       "       1057., 1057., 1057., 1057., 1057., 1057., 1057., 1057., 1057.,\n",
       "       1057., 1057., 1057., 1057., 1057., 1057., 1057., 1057., 1057.,\n",
       "       1057., 1057., 1057., 1057., 1057., 1057., 1057., 1057., 1057.,\n",
       "       1057., 1057., 1057., 1057., 1057., 1057., 1057., 1057., 1057.,\n",
       "       1057., 1057., 1057., 1057., 1057., 1057., 1057., 1057., 1057.,\n",
       "       1057., 1057., 1057., 1057., 1057., 1057., 1057., 1057., 1057.,\n",
       "       1057., 1057., 1057., 1057., 1057., 1057., 1057., 1057., 1057.,\n",
       "       1057., 1057., 1057., 1057., 1057., 1057., 1057., 1057., 1057.,\n",
       "       1057., 1057., 1057., 1057., 1057., 1057., 1057., 1057., 1057.,\n",
       "       1057., 1057., 1057., 1057., 1057., 1057., 1057., 1057., 1057.,\n",
       "       1057., 1057., 1057., 1057., 1057., 1057., 1057., 1057., 1057.,\n",
       "       1057., 1057., 1057., 1057., 1057., 1057., 1057., 1057., 1057.,\n",
       "       1057., 1057., 1057., 1057., 1057., 1057., 1057., 1057., 1057.,\n",
       "       1057., 1057., 1057., 1057., 1057., 1057., 1057., 1057., 1057.,\n",
       "       1057., 1057., 1057., 1057., 1057., 1057., 1057., 1057., 1057.,\n",
       "       1057., 1057., 1057., 1057., 1057., 1057., 1057., 1057., 1057.,\n",
       "       1057., 1057., 1057., 1057., 1057., 1057., 1057., 1057., 1057.,\n",
       "       1057., 1057., 1057., 1057., 1057., 1057., 1057., 1057., 1057.,\n",
       "       1057., 1057., 1057., 1057., 1057., 1057., 1057., 1057., 1057.,\n",
       "       1057., 1057., 1057., 1057., 1057., 1057., 1057., 1057., 1057.,\n",
       "       1057., 1057., 1057., 1057., 1057., 1057., 1057., 1057., 1057.,\n",
       "       1057., 1057., 1057., 1057., 1057., 1057., 1057., 1057., 1057.,\n",
       "       1057., 1057., 1057., 1057., 1057., 1057., 1057., 1057., 1057.,\n",
       "       1057., 1057., 1057., 1057., 1057., 1057., 1057., 1057., 1057.,\n",
       "       1057., 1057., 1057., 1057., 1057., 1057., 1057., 1057., 1057.,\n",
       "       1057., 1057., 1057., 1057., 1057., 1057., 1057., 1057., 1057.,\n",
       "       1057., 1057., 1057., 1057., 1057., 1057., 1057., 1057., 1057.,\n",
       "       1057., 1057., 1057., 1057., 1057., 1057., 1057., 1057., 1057.,\n",
       "       1057., 1057., 1057., 1057., 1057., 1057., 1057., 1057., 1057.,\n",
       "       1057., 1057., 1057., 1057., 1057., 1057., 1057., 1057., 1057.,\n",
       "       1057., 1057., 1057., 1057., 1057., 1057., 1057., 1057., 1057.,\n",
       "       1057., 1057., 1057., 1057., 1057., 1057., 1057., 1057., 1057.,\n",
       "       1057., 1057., 1057., 1057., 1057., 1057., 1057., 1057., 1057.,\n",
       "       1057., 1057., 1057., 1057., 1057., 1057., 1057., 1057., 1057.,\n",
       "       1057., 1057., 1057., 1057., 1057., 1057., 1057., 1057., 1057.,\n",
       "       1057., 1057., 1057., 1057., 1057., 1057., 1057., 1057., 1057.,\n",
       "       1057., 1057., 1057., 1057., 1057., 1057., 1057., 1057., 1057.,\n",
       "       1057., 1057., 1057., 1057., 1057., 1057., 1057., 1057., 1057.,\n",
       "       1057., 1057., 1057., 1057., 1057., 1057., 1057., 1057., 1057.,\n",
       "       1057., 1057., 1057., 1057., 1057., 1057., 1057., 1057., 1057.,\n",
       "       1057., 1057., 1057., 1057., 1057., 1057., 1057., 1057., 1057.,\n",
       "       1057., 1057., 1057., 1057., 1057., 1057., 1057., 1057., 1057.,\n",
       "       1057., 1057., 1057., 1057., 1057., 1057., 1057., 1057., 1057.,\n",
       "       1057., 1057., 1057., 1057., 1057., 1057., 1057., 1057., 1057.,\n",
       "       1057., 1057., 1057., 1057., 1057., 1057., 1057., 1057., 1057.,\n",
       "       1057., 1057., 1057., 1057., 1057., 1057., 1057., 1057., 1057.,\n",
       "       1057., 1057., 1057., 1057., 1057., 1057., 1057., 1057., 1057.,\n",
       "       1057., 1057., 1057., 1057., 1057., 1057., 1057., 1057., 1057.,\n",
       "       1057., 1057., 1057., 1057., 1057., 1057., 1057., 1057., 1057.,\n",
       "       1057., 1057., 1057., 1057., 1057., 1057., 1057., 1057., 1057.,\n",
       "       1057., 1057., 1057., 1057., 1057., 1057., 1057., 1057., 1057.,\n",
       "       1057., 1057., 1057., 1057., 1057., 1057., 1057., 1057., 1057.,\n",
       "       1057., 1057., 1057., 1057., 1057., 1057., 1057., 1057., 1057.,\n",
       "       1057., 1057., 1057., 1057., 1057., 1057., 1057., 1057., 1057.,\n",
       "       1057., 1057., 1057., 1057., 1057., 1057., 1057., 1057., 1057.,\n",
       "       1057., 1057., 1057., 1057., 1057., 1057., 1057., 1057., 1057.,\n",
       "       1057., 1057., 1057., 1057., 1057., 1057., 1057., 1057., 1057.,\n",
       "       1057., 1057., 1057., 1057., 1057., 1057., 1057., 1057., 1057.,\n",
       "       1057., 1057., 1057., 1057., 1057., 1057., 1057., 1057., 1057.,\n",
       "       1057., 1057., 1057., 1057., 1057., 1057., 1057., 1057., 1057.,\n",
       "       1057., 1057., 1057., 1057., 1057., 1057., 1057., 1057., 1057.,\n",
       "       1057., 1057., 1057., 1057., 1057., 1057., 1057., 1057., 1057.,\n",
       "       1057., 1057., 1057., 1057., 1057., 1057., 1057., 1057., 1057.,\n",
       "       1057., 1057., 1057., 1057., 1057., 1057., 1057., 1057., 1057.,\n",
       "       1057., 1057., 1057., 1057., 1057., 1057., 1057., 1057., 1057.,\n",
       "       1057., 1057., 1057., 1057., 1057., 1057., 1057., 1057., 1057.,\n",
       "       1057., 1057., 1057., 1057., 1057., 1057., 1057., 1057., 1057.,\n",
       "       1057., 1057., 1057., 1057., 1057., 1057., 1057., 1057., 1057.,\n",
       "       1057., 1057., 1057., 1057., 1057., 1057., 1057., 1057., 1057.,\n",
       "       1057., 1057., 1057., 1057., 1057., 1057., 1057., 1057., 1057.,\n",
       "       1057., 1057., 1057., 1057., 1057., 1057., 1057., 1057., 1057.,\n",
       "       1057., 1057., 1057., 1057., 1057., 1057., 1057., 1057., 1057.,\n",
       "       1057., 1057., 1057., 1057., 1057., 1057., 1057., 1057., 1057.,\n",
       "       1057., 1057., 1057., 1057., 1057., 1057., 1057., 1057., 1057.,\n",
       "       1057., 1057., 1057., 1057., 1057., 1057., 1057., 1057., 1057.,\n",
       "       1057., 1057., 1057., 1057., 1057., 1057., 1057., 1057., 1057.,\n",
       "       1057., 1057., 1057., 1057., 1057., 1057., 1057., 1057., 1057.,\n",
       "       1057., 1057., 1057., 1057., 1057., 1057., 1057., 1057., 1057.,\n",
       "       1057., 1057., 1057., 1057., 1057., 1057., 1057., 1057., 1057.,\n",
       "       1057., 1057., 1057., 1057., 1057., 1057., 1057., 1057., 1057.,\n",
       "       1057., 1057., 1057., 1057., 1057., 1057., 1057., 1057., 1057.,\n",
       "       1057.])"
      ]
     },
     "execution_count": 30,
     "metadata": {},
     "output_type": "execute_result"
    }
   ],
   "source": [
    "satisfied_iterations"
   ]
  },
  {
   "cell_type": "code",
   "execution_count": 60,
   "metadata": {},
   "outputs": [],
   "source": [
    "polarity = [0] * num_literal"
   ]
  },
  {
   "cell_type": "code",
   "execution_count": 28,
   "metadata": {},
   "outputs": [
    {
     "data": {
      "text/plain": [
       "[[-248, -113, -236],\n",
       " [-133, -242, 72],\n",
       " [-54, -239, -238],\n",
       " [166, 239, -39],\n",
       " [46, -244, -249],\n",
       " [-220, 187, 22],\n",
       " [-176, 196, -2],\n",
       " [66, 125, 201],\n",
       " [214, -170, -113],\n",
       " [-179, 4, 185],\n",
       " [87, 61, 109],\n",
       " [-217, -70, 121],\n",
       " [28, 15, -34],\n",
       " [45, -189, -21],\n",
       " [-226, 150, 146],\n",
       " [239, -103, -80],\n",
       " [217, 111, -23],\n",
       " [-170, -102, -178],\n",
       " [-111, 227, 136],\n",
       " [-94, -249, -181],\n",
       " [9, -140, -51],\n",
       " [43, 203, -55],\n",
       " [-229, -208, 157],\n",
       " [-22, -137, 238],\n",
       " [-247, 159, -201],\n",
       " [-245, -198, -84],\n",
       " [-136, 197, -192],\n",
       " [133, -53, -77],\n",
       " [-65, 100, -167],\n",
       " [-215, -168, 137],\n",
       " [195, 174, 232],\n",
       " [154, -244, -70],\n",
       " [16, 51, -197],\n",
       " [-21, -159, 10],\n",
       " [124, 91, -187],\n",
       " [43, 235, -87],\n",
       " [-147, 167, 187],\n",
       " [110, 27, -155],\n",
       " [-216, 139, 157],\n",
       " [-244, -199, -123],\n",
       " [-93, 250, -148],\n",
       " [122, -171, 76],\n",
       " [163, 246, -114],\n",
       " [-65, -18, -120],\n",
       " [-4, -236, 144],\n",
       " [-38, -8, 101],\n",
       " [-95, 58, -45],\n",
       " [8, 29, -177],\n",
       " [-103, -160, -246],\n",
       " [167, 134, -224],\n",
       " [162, -47, 147],\n",
       " [-136, -76, 140],\n",
       " [112, 4, -34],\n",
       " [17, -227, -39],\n",
       " [-1, -116, 54],\n",
       " [113, 87, 110],\n",
       " [-91, -235, -167],\n",
       " [235, 26, 166],\n",
       " [-146, 80, -16],\n",
       " [-104, 93, 79],\n",
       " [219, -178, -91],\n",
       " [169, 27, 173],\n",
       " [-247, 241, -113],\n",
       " [-202, 154, 5],\n",
       " [182, 191, 189],\n",
       " [15, -66, 183],\n",
       " [-44, -62, -145],\n",
       " [-53, 143, -141],\n",
       " [91, -7, -52],\n",
       " [-193, -156, -80],\n",
       " [136, 180, -242],\n",
       " [186, 78, 196],\n",
       " [231, 97, 235],\n",
       " [19, -102, 47],\n",
       " [209, 140, 176],\n",
       " [-216, -156, 21],\n",
       " [92, -159, -133],\n",
       " [130, 220, 22],\n",
       " [-154, -109, 135],\n",
       " [-221, -138, -222],\n",
       " [238, 141, 148],\n",
       " [-63, -190, 31],\n",
       " [-121, -108, 240],\n",
       " [174, 125, 188],\n",
       " [140, -44, -4],\n",
       " [104, -178, -70],\n",
       " [-123, -248, 108],\n",
       " [-173, -63, -192],\n",
       " [-241, -128, 37],\n",
       " [45, -76, 155],\n",
       " [228, 42, -22],\n",
       " [215, 166, -205],\n",
       " [157, -241, -210],\n",
       " [11, 142, -42],\n",
       " [158, -115, -54],\n",
       " [-156, -141, 33],\n",
       " [134, -152, 241],\n",
       " [-235, -129, -49],\n",
       " [-109, 238, -93],\n",
       " [-128, 192, -28],\n",
       " [-173, 160, 81],\n",
       " [31, 219, -169],\n",
       " [-80, -41, -20],\n",
       " [-79, -93, 234],\n",
       " [84, 121, -210],\n",
       " [-52, -226, -123],\n",
       " [150, -211, -177],\n",
       " [-210, -61, 24],\n",
       " [-227, -18, 102],\n",
       " [-228, -22, 215],\n",
       " [151, 184, -243],\n",
       " [-231, 216, 134],\n",
       " [-140, -245, 176],\n",
       " [172, -200, 133],\n",
       " [117, 137, -94],\n",
       " [99, -224, -160],\n",
       " [-13, -227, -192],\n",
       " [-12, -24, -220],\n",
       " [-52, -108, 144],\n",
       " [6, 247, 190],\n",
       " [-75, 176, -236],\n",
       " [-210, -29, 208],\n",
       " [127, 187, 115],\n",
       " [-40, 176, 159],\n",
       " [-235, -116, 35],\n",
       " [-187, 39, 38],\n",
       " [154, -232, 83],\n",
       " [203, 9, 195],\n",
       " [118, 144, 243],\n",
       " [64, -61, -218],\n",
       " [-211, 171, -221],\n",
       " [-52, 247, 225],\n",
       " [142, -62, -115],\n",
       " [-154, 245, -112],\n",
       " [-248, -84, -215],\n",
       " [-143, -153, 117],\n",
       " [192, 243, -84],\n",
       " [218, 162, 55],\n",
       " [207, 35, 136],\n",
       " [99, 139, 70],\n",
       " [210, 213, -204],\n",
       " [186, 44, 191],\n",
       " [210, -87, -203],\n",
       " [-39, -96, 27],\n",
       " [246, 46, 219],\n",
       " [116, -70, 2],\n",
       " [-18, 83, 147],\n",
       " [-250, 62, -102],\n",
       " [-195, 115, 87],\n",
       " [52, 34, -80],\n",
       " [59, 214, -9],\n",
       " [164, 51, 237],\n",
       " [-76, -10, -150],\n",
       " [169, -157, -91],\n",
       " [38, -178, 162],\n",
       " [56, 7, 224],\n",
       " [-219, 231, 57],\n",
       " [-44, 116, 76],\n",
       " [169, -212, 194],\n",
       " [138, 4, -249],\n",
       " [59, -177, 204],\n",
       " [38, -210, 1],\n",
       " [-161, -208, -156],\n",
       " [-24, 70, -161],\n",
       " [39, 217, 131],\n",
       " [-234, 75, -178],\n",
       " [-208, -144, 127],\n",
       " [-248, -148, -249],\n",
       " [103, -158, 220],\n",
       " [141, -164, 16],\n",
       " [-23, 185, -106],\n",
       " [-118, 79, 106],\n",
       " [36, -34, 241],\n",
       " [-184, 40, -32],\n",
       " [-202, -194, 71],\n",
       " [249, -236, 207],\n",
       " [-67, 53, -158],\n",
       " [15, 83, -227],\n",
       " [-129, -51, 203],\n",
       " [-68, 156, -199],\n",
       " [161, -122, 149],\n",
       " [196, -43, -138],\n",
       " [46, -229, -17],\n",
       " [-186, 112, -185],\n",
       " [144, -90, -44],\n",
       " [-6, 139, 39],\n",
       " [-239, 201, 59],\n",
       " [60, 99, -2],\n",
       " [-210, -56, 96],\n",
       " [32, -89, -207],\n",
       " [243, 186, 73],\n",
       " [47, -78, 29],\n",
       " [-128, 13, 181],\n",
       " [-113, -48, 107],\n",
       " [76, 223, 139],\n",
       " [217, 41, 6],\n",
       " [-118, -173, -147],\n",
       " [-99, -138, -158],\n",
       " [90, -24, 65],\n",
       " [-123, -187, 5],\n",
       " [-121, 25, -79],\n",
       " [-28, -214, -97],\n",
       " [152, 34, 111],\n",
       " [18, -101, 110],\n",
       " [-198, -22, -10],\n",
       " [26, -47, 20],\n",
       " [28, -234, 79],\n",
       " [-97, 58, 48],\n",
       " [-44, -134, 160],\n",
       " [-226, 164, 80],\n",
       " [-230, -141, 52],\n",
       " [-114, -23, -241],\n",
       " [207, -244, 205],\n",
       " [-63, -245, -204],\n",
       " [31, 123, -83],\n",
       " [-115, 88, 89],\n",
       " [-173, -200, 105],\n",
       " [60, 99, -246],\n",
       " [84, -166, 191],\n",
       " [207, 168, 210],\n",
       " [238, 141, -154],\n",
       " [159, -229, 190],\n",
       " [15, -200, 181],\n",
       " [-206, 47, 199],\n",
       " [-233, 41, 3],\n",
       " [-9, -68, -171],\n",
       " [153, 51, 205],\n",
       " [175, 79, 46],\n",
       " [138, -44, -55],\n",
       " [-171, 172, 179],\n",
       " [203, 123, -77],\n",
       " [100, 188, 21],\n",
       " [-149, 204, -163],\n",
       " [202, 196, -44],\n",
       " [145, -203, 155],\n",
       " [-83, -79, -141],\n",
       " [-129, 51, -114],\n",
       " [-234, -4, -97],\n",
       " [-146, -149, -101],\n",
       " [171, 50, -85],\n",
       " [-93, 207, -40],\n",
       " [160, -244, -42],\n",
       " [167, 126, 150],\n",
       " [169, 167, -246],\n",
       " [-152, 26, 201],\n",
       " [-197, -193, -30],\n",
       " [227, 86, 139],\n",
       " [165, 25, -158],\n",
       " [-162, -207, -95],\n",
       " [58, 127, 225],\n",
       " [82, 59, -17],\n",
       " [-6, 21, -28],\n",
       " [176, 204, -161],\n",
       " [12, 180, -156],\n",
       " [56, -144, 7],\n",
       " [105, 232, -177],\n",
       " [63, -99, 241],\n",
       " [-226, 169, 233],\n",
       " [-85, 13, 180],\n",
       " [-120, -174, 159],\n",
       " [-245, -58, -42],\n",
       " [-142, 241, -232],\n",
       " [-161, -56, -143],\n",
       " [143, 26, 157],\n",
       " [-88, 135, -199],\n",
       " [56, -6, -210],\n",
       " [-231, -69, -129],\n",
       " [187, 111, -15],\n",
       " [-224, -146, -231],\n",
       " [154, 55, -130],\n",
       " [-4, -107, 147],\n",
       " [-102, -185, 142],\n",
       " [-190, -84, -203],\n",
       " [-159, 137, 102],\n",
       " [134, 169, -125],\n",
       " [155, -25, -33],\n",
       " [124, 91, 171],\n",
       " [108, -11, 151],\n",
       " [17, 123, -200],\n",
       " [188, -146, -134],\n",
       " [237, 64, -180],\n",
       " [-5, 238, 9],\n",
       " [-242, -110, 90],\n",
       " [-205, 187, -177],\n",
       " [120, 242, -83],\n",
       " [158, 40, -56],\n",
       " [5, -62, -156],\n",
       " [-92, 227, -19],\n",
       " [-234, -74, -125],\n",
       " [-98, 97, -171],\n",
       " [-173, 7, 13],\n",
       " [147, 98, 132],\n",
       " [-211, -201, -94],\n",
       " [167, 116, 36],\n",
       " [-221, 123, -111],\n",
       " [-114, -226, 217],\n",
       " [196, -100, 157],\n",
       " [194, 113, 217],\n",
       " [250, 9, -214],\n",
       " [-49, -21, -111],\n",
       " [119, -25, 139],\n",
       " [145, -97, 192],\n",
       " [68, -116, 206],\n",
       " [133, -153, 55],\n",
       " [-84, -237, 125],\n",
       " [-108, 14, -61],\n",
       " [88, 242, -58],\n",
       " [122, -111, -97],\n",
       " [-125, 27, 152],\n",
       " [-34, -205, -77],\n",
       " [195, 6, 235],\n",
       " [217, 90, 75],\n",
       " [5, 241, 228],\n",
       " [101, 192, 149],\n",
       " [-93, 154, 225],\n",
       " [140, 6, -129],\n",
       " [207, 228, 219],\n",
       " [-149, 7, -78],\n",
       " [-249, -209, -87],\n",
       " [-167, -53, -111],\n",
       " [-14, -111, -179],\n",
       " [-22, -192, -167],\n",
       " [-78, -123, 177],\n",
       " [-50, -247, -243],\n",
       " [-93, -59, -6],\n",
       " [126, 213, 88],\n",
       " [-244, 126, -15],\n",
       " [80, 194, 111],\n",
       " [40, 148, -105],\n",
       " [-236, 127, 57],\n",
       " [219, 206, -56],\n",
       " [-4, 199, -144],\n",
       " [-244, 9, 242],\n",
       " [39, 5, -206],\n",
       " [57, -165, 10],\n",
       " [16, -201, 234],\n",
       " [201, -214, 5],\n",
       " [-226, 121, -78],\n",
       " [69, -159, -189],\n",
       " [-227, 36, -142],\n",
       " [-1, -98, 87],\n",
       " [41, -119, -11],\n",
       " [-116, -189, -8],\n",
       " [128, -225, 36],\n",
       " [-44, -224, -51],\n",
       " [-72, -210, -231],\n",
       " [-206, 235, -18],\n",
       " [104, 146, 170],\n",
       " [239, 216, 50],\n",
       " [40, 75, -22],\n",
       " [-223, -81, -191],\n",
       " [102, -196, -119],\n",
       " [100, -15, -45],\n",
       " [-95, -115, -98],\n",
       " [-192, 179, -203],\n",
       " [-195, -241, 43],\n",
       " [-19, -45, -228],\n",
       " [37, 14, 153],\n",
       " [214, 128, 143],\n",
       " [-189, -214, -210],\n",
       " [-104, 122, -220],\n",
       " [-179, -25, 207],\n",
       " [-44, 200, -135],\n",
       " [225, 244, 45],\n",
       " [148, -243, -30],\n",
       " [86, -238, 78],\n",
       " [-217, -63, 108],\n",
       " [-45, -13, -220],\n",
       " [-96, 183, 243],\n",
       " [-206, 197, -40],\n",
       " [192, -140, 162],\n",
       " [-103, 162, 109],\n",
       " [-231, 130, 89],\n",
       " [-200, 154, 230],\n",
       " [239, -249, 226],\n",
       " [202, -176, 169],\n",
       " [158, 47, 24],\n",
       " [-93, -237, 239],\n",
       " [-228, 136, -200],\n",
       " [-236, 67, -243],\n",
       " [-241, -46, 152],\n",
       " [22, 66, -142],\n",
       " [-155, 175, 135],\n",
       " [-189, 84, 207],\n",
       " [133, -27, -102],\n",
       " [101, -228, -242],\n",
       " [-98, -158, 216],\n",
       " [138, -108, 222],\n",
       " [94, 189, -161],\n",
       " [-85, 210, -228],\n",
       " [132, -185, 192],\n",
       " [-22, 34, -235],\n",
       " [35, -161, 46],\n",
       " [-84, 27, 234],\n",
       " [-196, 161, 21],\n",
       " [137, 228, -39],\n",
       " [-156, 122, 9],\n",
       " [79, -144, -192],\n",
       " [-168, -234, -152],\n",
       " [-213, 173, -139],\n",
       " [87, 233, 213],\n",
       " [100, 216, 184],\n",
       " [139, 185, 186],\n",
       " [206, -226, 69],\n",
       " [-86, 89, 220],\n",
       " [-209, 158, 47],\n",
       " [-233, -132, -73],\n",
       " [-208, -128, -113],\n",
       " [229, 164, 146],\n",
       " [94, 106, -111],\n",
       " [-128, -39, 90],\n",
       " [31, 191, -3],\n",
       " [-33, -65, 120],\n",
       " [-66, -186, 241],\n",
       " [233, -77, -118],\n",
       " [25, -18, -235],\n",
       " [-235, 223, -135],\n",
       " [230, 109, 55],\n",
       " [-176, 69, -198],\n",
       " [177, 11, -8],\n",
       " [-241, -128, 166],\n",
       " [169, -226, -80],\n",
       " [44, 193, 14],\n",
       " [110, -217, 86],\n",
       " [-239, 59, -125],\n",
       " [145, 94, 107],\n",
       " [-168, 238, 74],\n",
       " [-153, -84, 230],\n",
       " [183, 42, 237],\n",
       " [132, 88, 177],\n",
       " [235, 229, -123],\n",
       " [189, -206, -178],\n",
       " [48, 104, -51],\n",
       " [48, -203, 24],\n",
       " [153, 102, 210],\n",
       " [-109, -93, 22],\n",
       " [172, -121, -15],\n",
       " [68, -180, 70],\n",
       " [101, 5, 42],\n",
       " [-247, 191, -114],\n",
       " [249, 129, -63],\n",
       " [79, -31, -116],\n",
       " [-59, 199, -178],\n",
       " [219, 169, -140],\n",
       " [-22, -39, -119],\n",
       " [-106, 242, 16],\n",
       " [164, -90, 156],\n",
       " [-27, 242, 236],\n",
       " [-90, 88, 221],\n",
       " [156, 120, 52],\n",
       " [-162, 110, 37],\n",
       " [-52, -191, 139],\n",
       " [-244, -247, -62],\n",
       " [32, 41, 20],\n",
       " [16, -174, -237],\n",
       " [-112, 109, -101],\n",
       " [197, 88, 70],\n",
       " [-156, 39, -37],\n",
       " [-149, 50, 29],\n",
       " [35, -67, -221],\n",
       " [13, -245, 28],\n",
       " [242, -91, -151],\n",
       " [-102, 81, 235],\n",
       " [-127, 197, 51],\n",
       " [-201, -149, 169],\n",
       " [90, 182, -47],\n",
       " [181, 37, -31],\n",
       " [27, 200, 37],\n",
       " [13, 214, -31],\n",
       " [166, -69, -43],\n",
       " [-135, -80, -143],\n",
       " [-121, -127, 224],\n",
       " [-107, -235, 21],\n",
       " [227, 8, -72],\n",
       " [-152, 236, -8],\n",
       " [155, -204, 78],\n",
       " [-235, -6, 151],\n",
       " [29, -14, 93],\n",
       " [-157, -134, -95],\n",
       " [-167, -42, -150],\n",
       " [-172, -141, 173],\n",
       " [-23, -172, -64],\n",
       " [32, -158, -234],\n",
       " [212, 113, -24],\n",
       " [221, -8, -206],\n",
       " [89, 104, 81],\n",
       " [-68, 126, 190],\n",
       " [101, -81, -227],\n",
       " [-225, -166, -46],\n",
       " [161, 192, 144],\n",
       " [-58, -149, 180],\n",
       " [157, 227, -158],\n",
       " [-166, 209, -36],\n",
       " [75, 17, -156],\n",
       " [-7, 176, -68],\n",
       " [-227, -99, -27],\n",
       " [188, -143, 164],\n",
       " [51, 155, 229],\n",
       " [-77, -121, 39],\n",
       " [-108, -247, 228],\n",
       " [53, 123, 118],\n",
       " [-17, 217, -247],\n",
       " [-201, -113, -140],\n",
       " [-201, 26, 56],\n",
       " [41, 115, -43],\n",
       " [-38, -93, 62],\n",
       " [10, 189, 58],\n",
       " [-242, -69, -232],\n",
       " [68, -198, -206],\n",
       " [-170, -228, 77],\n",
       " [-151, -33, -209],\n",
       " [54, -198, -70],\n",
       " [-230, 196, 7],\n",
       " [141, 145, -203],\n",
       " [-59, -188, 117],\n",
       " [-3, 50, 145],\n",
       " [-92, -65, -30],\n",
       " [100, 155, 178],\n",
       " [111, 7, -150],\n",
       " [202, 162, 106],\n",
       " [180, 50, 55],\n",
       " [-157, 103, 132],\n",
       " [170, -114, 211],\n",
       " [103, -82, -83],\n",
       " [170, -96, -97],\n",
       " [31, -92, -194],\n",
       " [151, 73, 56],\n",
       " [88, 179, -183],\n",
       " [-125, -129, -235],\n",
       " [-143, 51, -224],\n",
       " [134, -106, -228],\n",
       " [30, 91, -217],\n",
       " [155, -209, -87],\n",
       " [133, -59, 225],\n",
       " [-233, 240, -76],\n",
       " [-105, 171, 190],\n",
       " [212, 201, 51],\n",
       " [201, 31, 182],\n",
       " [28, 171, 172],\n",
       " [-105, -242, -100],\n",
       " [143, -69, -86],\n",
       " [-167, 212, -147],\n",
       " [-244, -208, 249],\n",
       " [-38, 23, -207],\n",
       " [-71, 130, -209],\n",
       " [-85, 203, -241],\n",
       " [117, -201, -202],\n",
       " [-231, 162, -167],\n",
       " [-16, 125, -184],\n",
       " [-189, 155, -87],\n",
       " [70, 160, -99],\n",
       " [50, -196, 84],\n",
       " [-210, -190, -162],\n",
       " [-36, -185, -123],\n",
       " [177, -96, -112],\n",
       " [159, 62, -95],\n",
       " [-140, -171, 121],\n",
       " [-224, 131, -18],\n",
       " [134, 41, 121],\n",
       " [214, -187, 123],\n",
       " [11, 108, 177],\n",
       " [-30, -5, -219],\n",
       " [-229, 201, 20],\n",
       " [183, -219, 66],\n",
       " [-80, 189, -12],\n",
       " [-67, -24, -69],\n",
       " [42, 159, -188],\n",
       " [-150, 37, -115],\n",
       " [194, 216, -169],\n",
       " [86, 98, 82],\n",
       " [-58, 116, -118],\n",
       " [-60, -151, -155],\n",
       " [163, -61, 249],\n",
       " [-227, -174, 248],\n",
       " [38, 18, -114],\n",
       " [214, 173, -29],\n",
       " [-77, 110, -39],\n",
       " [-194, 20, -10],\n",
       " [-225, -23, 163],\n",
       " [239, 205, -113],\n",
       " [16, 37, -151],\n",
       " [-183, -195, -60],\n",
       " [-171, 120, -186],\n",
       " [169, 36, -4],\n",
       " [176, 247, -125],\n",
       " [-16, -114, 236],\n",
       " [-117, 91, -49],\n",
       " [-93, -231, 29],\n",
       " [-79, -190, -14],\n",
       " [85, 194, 59],\n",
       " [139, 156, 242],\n",
       " [172, -154, 144],\n",
       " [-190, 196, 211],\n",
       " [-227, 185, 55],\n",
       " [-174, 178, -196],\n",
       " [-239, -189, -144],\n",
       " [-76, 164, 112],\n",
       " [86, -201, -22],\n",
       " [-160, -145, -62],\n",
       " [-216, 59, -84],\n",
       " [149, 28, 72],\n",
       " [249, 84, -228],\n",
       " [-186, -138, 189],\n",
       " [-85, 93, -2],\n",
       " [-52, -23, -194],\n",
       " [18, 82, 12],\n",
       " [-153, -122, -103],\n",
       " [119, 168, -42],\n",
       " [-164, 209, 68],\n",
       " [-51, 157, 147],\n",
       " [-228, -59, 161],\n",
       " [8, -50, -156],\n",
       " [15, 48, -55],\n",
       " [32, -18, -138],\n",
       " [225, -233, -149],\n",
       " [202, -204, -247],\n",
       " [146, 201, 194],\n",
       " [-188, -76, 171],\n",
       " [171, 165, -43],\n",
       " [-50, 239, -208],\n",
       " [-137, -61, 139],\n",
       " [-28, 68, 32],\n",
       " [94, 56, 168],\n",
       " [39, 218, -214],\n",
       " [57, 75, 217],\n",
       " [199, 160, 137],\n",
       " [-168, 71, -128],\n",
       " [-41, -135, 52],\n",
       " [-7, 187, 66],\n",
       " [-199, 74, -165],\n",
       " [-241, 36, -96],\n",
       " [187, -40, 210],\n",
       " [60, -28, 135],\n",
       " [211, -242, -219],\n",
       " [117, 161, -60],\n",
       " [218, -66, 183],\n",
       " [-203, -129, 95],\n",
       " [162, 3, 111],\n",
       " [79, 74, 88],\n",
       " [34, -216, 211],\n",
       " [-240, 214, 101],\n",
       " [228, -230, 172],\n",
       " [156, 53, -116],\n",
       " [-112, -179, -54],\n",
       " [-1, 9, 119],\n",
       " [247, 91, 79],\n",
       " [141, 241, -86],\n",
       " [176, -218, -31],\n",
       " [21, 96, 58],\n",
       " [227, 46, -42],\n",
       " [210, 4, -233],\n",
       " [-144, 242, 237],\n",
       " [-208, 229, 17],\n",
       " [-117, 41, -97],\n",
       " [-208, -91, -188],\n",
       " [141, -145, 199],\n",
       " [120, 76, 42],\n",
       " [-155, -13, 74],\n",
       " [172, 117, -134],\n",
       " [160, -248, 88],\n",
       " [-42, 138, 167],\n",
       " [41, -131, -175],\n",
       " [178, 141, -243],\n",
       " [-95, 233, -109],\n",
       " [227, 160, -147],\n",
       " [87, 49, 31],\n",
       " [102, -79, -172],\n",
       " [-6, 89, 48],\n",
       " [240, -186, 92],\n",
       " [-247, -140, 2],\n",
       " [36, 41, 56],\n",
       " [107, -145, 174],\n",
       " [-186, -176, 173],\n",
       " [-93, 162, 199],\n",
       " [26, -6, -2],\n",
       " [35, -184, 246],\n",
       " [185, -107, 183],\n",
       " [192, 70, -29],\n",
       " [128, 146, 112],\n",
       " [-188, -105, 126],\n",
       " [-145, 166, -208],\n",
       " [179, 191, -64],\n",
       " [-215, 241, 18],\n",
       " [193, 234, 216],\n",
       " [176, -247, 149],\n",
       " [75, -82, -195],\n",
       " [240, 150, -142],\n",
       " [1, -225, 181],\n",
       " [89, -160, 19],\n",
       " [-99, -140, 75],\n",
       " [-27, 16, 92],\n",
       " [172, 38, -213],\n",
       " [-3, 91, -198],\n",
       " [-218, 198, 75],\n",
       " [-64, 101, 178],\n",
       " [-149, 125, -135],\n",
       " [54, 17, 220],\n",
       " [-239, 83, 150],\n",
       " [-102, -232, -206],\n",
       " [-214, -31, -58],\n",
       " [-10, 67, -30],\n",
       " [76, 110, -143],\n",
       " [105, 114, 54],\n",
       " [-14, 151, 51],\n",
       " [-177, -40, -49],\n",
       " [-140, 191, 34],\n",
       " [-45, -161, 199],\n",
       " [-159, 61, -188],\n",
       " [31, 79, -138],\n",
       " [-99, -224, -4],\n",
       " [-116, 97, -125],\n",
       " [-239, -61, 120],\n",
       " [-12, 156, -136],\n",
       " [186, -149, 30],\n",
       " [37, -79, 51],\n",
       " [225, -92, 105],\n",
       " [-58, -228, -182],\n",
       " [-2, 177, -85],\n",
       " [89, -60, 101],\n",
       " [-195, -170, -158],\n",
       " [3, 184, -226],\n",
       " [-228, 91, 193],\n",
       " [-88, -20, -35],\n",
       " [-124, 245, 219],\n",
       " [-54, 57, -21],\n",
       " [96, -54, -164],\n",
       " [-36, 139, 37],\n",
       " [87, 135, -73],\n",
       " [-30, -181, 224],\n",
       " [99, -208, -142],\n",
       " [98, 15, -247],\n",
       " [-208, 121, 46],\n",
       " [48, 186, 228],\n",
       " [100, 85, 215],\n",
       " [159, 181, -78],\n",
       " [-245, -147, 12],\n",
       " [-148, 116, 218],\n",
       " [36, 157, 2],\n",
       " [48, -127, -143],\n",
       " [-132, -110, -155],\n",
       " [-205, -155, 100],\n",
       " [63, -43, -123],\n",
       " [97, 21, -139],\n",
       " [156, 81, -43],\n",
       " [-22, -224, 103],\n",
       " [-130, 137, 167],\n",
       " [237, -165, 104],\n",
       " [-91, -41, -110],\n",
       " [-144, 43, 224],\n",
       " [180, 112, -41],\n",
       " [-44, -168, -109],\n",
       " [-23, -133, 125],\n",
       " [215, 82, -109],\n",
       " [-218, -204, -40],\n",
       " [7, 70, 242],\n",
       " [-19, 145, 198],\n",
       " [-87, 128, -228],\n",
       " [-30, 219, 51],\n",
       " [-136, -10, -65],\n",
       " [55, 208, -24],\n",
       " [76, -23, -21],\n",
       " [119, -237, 4],\n",
       " [65, 228, 226],\n",
       " [226, -2, -29],\n",
       " [244, 231, -187],\n",
       " [-143, -103, 214],\n",
       " [39, 245, 100],\n",
       " [50, 155, -26],\n",
       " [44, 245, 145],\n",
       " [-52, 28, 51],\n",
       " [-179, 189, 181],\n",
       " [6, -140, -51],\n",
       " [-154, 231, 46],\n",
       " [-72, 49, 61],\n",
       " [36, -173, -123],\n",
       " [165, -89, -107],\n",
       " [-151, 237, 98],\n",
       " [-93, -246, 10],\n",
       " [204, -246, -64],\n",
       " [-109, 248, 108],\n",
       " [150, 249, 107],\n",
       " [214, -244, -74],\n",
       " [91, -38, 161],\n",
       " [-115, -131, 81],\n",
       " [-114, -3, 39],\n",
       " [239, -134, -121],\n",
       " [182, -104, -207],\n",
       " [171, 5, 190],\n",
       " [-166, -220, -246],\n",
       " [37, -13, -143],\n",
       " [199, 222, -11],\n",
       " [-33, 249, -3],\n",
       " [141, 174, 172],\n",
       " [-196, -170, -247],\n",
       " [-82, 202, -158],\n",
       " [102, 226, -114],\n",
       " [11, 77, -179],\n",
       " [181, 206, 106],\n",
       " [-130, -232, -30],\n",
       " [-22, -6, -146],\n",
       " [-71, -81, -149],\n",
       " [114, -204, 20],\n",
       " [223, -148, 41],\n",
       " [-188, 129, -58],\n",
       " [161, -26, -237],\n",
       " [-231, -24, -47],\n",
       " [73, 71, -193],\n",
       " [-177, -85, 56],\n",
       " [44, 100, -184],\n",
       " [83, 228, -213],\n",
       " [36, -15, -191],\n",
       " [72, 216, 219],\n",
       " [-173, -235, 164],\n",
       " [-34, 245, -176],\n",
       " [155, -179, 220],\n",
       " [-35, 33, -19],\n",
       " [124, -186, -128],\n",
       " [172, 122, 171],\n",
       " [162, 134, -117],\n",
       " [80, 6, -142],\n",
       " [54, -158, 173],\n",
       " [233, 7, -223],\n",
       " [-46, 20, -44],\n",
       " [-89, 16, -26],\n",
       " [168, -183, 132],\n",
       " [199, 35, 163],\n",
       " [-158, -89, -52],\n",
       " [52, -245, 170],\n",
       " [238, 49, -40],\n",
       " [141, -172, 74],\n",
       " [-27, 180, -90],\n",
       " [234, 208, -34],\n",
       " [186, -140, -226],\n",
       " [-129, -223, -236],\n",
       " [-59, -127, -161],\n",
       " [188, 175, 71],\n",
       " [223, -97, -78],\n",
       " [-237, -69, 56],\n",
       " [-150, -51, -13],\n",
       " [124, -27, 126],\n",
       " [-174, 98, 199],\n",
       " [-115, 97, 159],\n",
       " [-108, 89, 110],\n",
       " [-204, 201, 83],\n",
       " [216, -209, -78],\n",
       " [116, -166, -85],\n",
       " [126, -24, -56],\n",
       " [-75, -74, 247],\n",
       " [217, -190, 249],\n",
       " [-101, -121, 43],\n",
       " [-165, -77, 200],\n",
       " [208, 16, 133],\n",
       " [-171, 124, -173],\n",
       " [-215, 24, 99],\n",
       " [47, 174, 126],\n",
       " [124, 16, 164],\n",
       " [182, -223, 70],\n",
       " [163, 157, 243],\n",
       " [244, -37, -75],\n",
       " [-97, -47, -71],\n",
       " [-60, 10, -188],\n",
       " [28, 14, -176],\n",
       " [-216, 242, -68],\n",
       " [9, -70, -178],\n",
       " [230, -9, 224],\n",
       " [-223, 41, -119],\n",
       " [113, -40, 215],\n",
       " [199, 103, 34],\n",
       " [156, -69, 180],\n",
       " [-10, -131, 102],\n",
       " [-92, 154, -123],\n",
       " [-161, 176, -125],\n",
       " [-162, -164, 202],\n",
       " [-83, -43, 242],\n",
       " [-175, 74, 185],\n",
       " [-250, -159, 140],\n",
       " [-120, 148, 200],\n",
       " [163, -22, -176],\n",
       " [-175, -31, -192],\n",
       " [-250, 121, -208],\n",
       " [202, -27, 122],\n",
       " [115, 106, 242],\n",
       " [75, -12, 125],\n",
       " [150, -51, 104],\n",
       " [-226, -217, -170],\n",
       " [146, -102, -224],\n",
       " [111, 56, -65],\n",
       " [204, -195, 177],\n",
       " [151, -94, 102],\n",
       " [-54, 160, -35],\n",
       " [-170, 239, -37],\n",
       " [-103, -116, -33],\n",
       " [82, -171, 97],\n",
       " [-60, -149, 135],\n",
       " [-230, 206, -15],\n",
       " [-99, 61, -235],\n",
       " [94, -181, -246],\n",
       " [92, 68, 244],\n",
       " [159, 215, -170],\n",
       " [50, 73, 220],\n",
       " [-13, 100, -102],\n",
       " [-210, -186, -97],\n",
       " [103, -38, -61],\n",
       " [131, 47, -90],\n",
       " [41, -166, 29],\n",
       " [-51, -243, -130],\n",
       " [-69, -200, 156],\n",
       " [-158, 7, 139],\n",
       " [-95, 234, -73],\n",
       " [-141, 75, 105],\n",
       " [200, 134, 77],\n",
       " [-49, 104, -16],\n",
       " [-56, -177, 178],\n",
       " [221, -240, 14],\n",
       " [231, -65, -123],\n",
       " [-170, 185, 90],\n",
       " [62, -229, -78],\n",
       " [72, 173, -176],\n",
       " [237, -58, 220],\n",
       " [10, 46, 139],\n",
       " [14, -214, 184],\n",
       " [-71, 39, 38],\n",
       " [147, -127, 207],\n",
       " [-28, -129, 82],\n",
       " [-14, 167, -108],\n",
       " [-248, 26, 102],\n",
       " [240, 106, -118],\n",
       " [61, -152, -48],\n",
       " [43, -2, -68],\n",
       " [187, -13, -142],\n",
       " [182, 163, -179],\n",
       " [-113, 84, 69],\n",
       " [-151, -171, -224],\n",
       " [-138, 231, -199],\n",
       " [180, 40, 210],\n",
       " [-224, 16, -37],\n",
       " [-115, -161, 214],\n",
       " [-5, -41, -245],\n",
       " [176, 127, 163],\n",
       " [71, 11, -57],\n",
       " [-155, -55, -156],\n",
       " [72, 71, 116],\n",
       " [109, -8, 46],\n",
       " [37, -161, -199],\n",
       " [-106, 3, -22],\n",
       " [-40, 139, 68],\n",
       " [53, -166, -137],\n",
       " [197, -176, -188],\n",
       " [86, 72, 133],\n",
       " [1, 212, -128],\n",
       " [184, 137, -101],\n",
       " [-24, 170, 112],\n",
       " [-52, 204, 206],\n",
       " [212, 89, 189],\n",
       " [220, -124, 7],\n",
       " [-59, 80, 240],\n",
       " [-106, 104, 27],\n",
       " [-247, 66, -237],\n",
       " [69, 17, -79],\n",
       " [53, -81, -75],\n",
       " [-162, -237, -50],\n",
       " [9, -2, -234],\n",
       " [69, -215, 63],\n",
       " [44, -236, -134],\n",
       " [-74, 46, 76],\n",
       " [-118, -17, -241],\n",
       " [47, -177, 138],\n",
       " [28, 30, -71],\n",
       " [207, -128, -223],\n",
       " [-86, -73, 12],\n",
       " [-165, 89, 133],\n",
       " [-42, 52, -227],\n",
       " [34, -110, 218],\n",
       " [91, -156, -179],\n",
       " [30, -82, -1],\n",
       " [158, 59, 40],\n",
       " [104, -116, 67],\n",
       " [-66, 58, 222],\n",
       " [11, -162, -201],\n",
       " [-104, -240, 130],\n",
       " [53, -139, -160],\n",
       " [-182, 54, 89],\n",
       " [-2, 151, 94],\n",
       " [-246, -82, -12],\n",
       " [-76, -10, -159],\n",
       " [-55, 207, -29],\n",
       " [187, -229, 33],\n",
       " [-62, -229, 19],\n",
       " [5, -198, 171],\n",
       " [186, -219, -85],\n",
       " [234, -228, -195],\n",
       " [241, -128, -222],\n",
       " [-141, 214, -177],\n",
       " [-248, -124, -75],\n",
       " [244, -76, 187],\n",
       " [67, -153, 88],\n",
       " [-4, 155, -225],\n",
       " [-67, -21, -99],\n",
       " [-224, -14, 52],\n",
       " [-136, -230, 207],\n",
       " ...]"
      ]
     },
     "execution_count": 28,
     "metadata": {},
     "output_type": "execute_result"
    }
   ],
   "source": [
    "clauses"
   ]
  },
  {
   "cell_type": "code",
   "execution_count": 16,
   "metadata": {},
   "outputs": [],
   "source": [
    "import numpy as np\n",
    "from scipy.stats import beta\n",
    "import matplotlib.pyplot as plt"
   ]
  },
  {
   "cell_type": "code",
   "execution_count": 5,
   "metadata": {},
   "outputs": [
    {
     "data": {
      "image/png": "[encoded data removed]",
      "text/plain": [
       "<matplotlib.figure.Figure at 0x11577ea90>"
      ]
     },
     "metadata": {},
     "output_type": "display_data"
    }
   ],
   "source": [
    "plt.rc('font', family='serif')\n",
    "\n",
    "fig, (ax1, ax2, ax3, ax4) = plt.subplots(1, 4, figsize=(20, 4))\n",
    "\n",
    "x = np.linspace(0, 1.0, 100)\n",
    "y1 = beta.pdf(x, 0.5, 0.5)\n",
    "y2 = beta.pdf(x, 0.5, 0.5)\n",
    "y3 = beta.pdf(x, 0.5, 0.5)\n",
    "ax1.plot(x, y1, \"--\", label=r\"$\\theta_x$\" ) \n",
    "ax1.plot(x, y2, \"r--\", label=r\"$\\theta_y$\") \n",
    "ax1.plot(x, y3, \"g--\", label=r\"$\\theta_z$\")\n",
    "ax1.title.set_text(\"Epoch 0\")\n",
    "ax1.legend()\n",
    "\n",
    "x = np.linspace(0, 1.0, 100)\n",
    "y1 = beta.pdf(x, 0.71, 0.4)\n",
    "y2 = beta.pdf(x, 0.49, 0.59)\n",
    "y3 = beta.pdf(x, 0.46, 0.64)\n",
    "ax2.plot(x, y1, \"--\", label=r\"$\\theta_x$\" ) \n",
    "ax2.plot(x, y2, \"r--\", label=r\"$\\theta_y$\") \n",
    "ax2.plot(x, y3, \"g--\", label=r\"$\\theta_z$\")\n",
    "ax2.legend(loc=\"upper center\")\n",
    "ax2.title.set_text(\"Epoch 3\")\n",
    "\n",
    "x = np.linspace(0, 1.0, 100)\n",
    "y1 = beta.pdf(x, 1.34, 0.3)\n",
    "y2 = beta.pdf(x, 0.45, 0.7)\n",
    "y3 = beta.pdf(x, 0.41, 0.8)\n",
    "ax3.plot(x, y1, \"--\", label=r\"$\\theta_x$\" ) \n",
    "ax3.plot(x, y2, \"r--\", label=r\"$\\theta_y$\") \n",
    "ax3.plot(x, y3, \"g--\", label=r\"$\\theta_z$\")\n",
    "ax3.legend(loc=\"upper center\")\n",
    "ax3.title.set_text(\"Epoch 10\")\n",
    "\n",
    "x = np.linspace(0, 1.0, 100)\n",
    "y1 = beta.pdf(x, 5.1, 0.2)\n",
    "y2 = beta.pdf(x, 0.3, 1)\n",
    "y3 = beta.pdf(x, 0.3, 1.4)\n",
    "ax4.plot(x, y1, \"--\", label=r\"$\\theta_x$\" ) \n",
    "ax4.plot(x, y2, \"r--\", label=r\"$\\theta_y$\") \n",
    "ax4.plot(x, y3, \"g--\", label=r\"$\\theta_z$\")\n",
    "ax4.legend(loc=\"upper center\")\n",
    "ax4.title.set_text(\"Epoch 20\")\n",
    "\n",
    "\n",
    "\n",
    "fig.savefig(\"BMM_density.pdf\", bbox_inches='tight')\n",
    "\n",
    "plt.show()"
   ]
  },
  {
   "cell_type": "code",
   "execution_count": 39,
   "metadata": {},
   "outputs": [
    {
     "data": {
      "text/plain": [
       "[<matplotlib.lines.Line2D at 0x181475a3c8>,\n",
       " <matplotlib.lines.Line2D at 0x181475a588>,\n",
       " <matplotlib.lines.Line2D at 0x181475ab00>]"
      ]
     },
     "execution_count": 39,
     "metadata": {},
     "output_type": "execute_result"
    },
    {
     "data": {
      "image/png": "[encoded data removed]",
      "text/plain": [
       "<matplotlib.figure.Figure at 0x18144a6a90>"
      ]
     },
     "metadata": {},
     "output_type": "display_data"
    }
   ],
   "source": [
    "x = np.linspace(0, 1.0, 100)\n",
    "y1 = beta.pdf(x, 0.71, 0.4)\n",
    "y2 = beta.pdf(x, 0.49, 0.59)\n",
    "y3 = beta.pdf(x, 0.46, 0.64)\n",
    "plt.plot(x, y1, \"--\", x, y2, \"r--\", x, y3, \"g--\")"
   ]
  },
  {
   "cell_type": "code",
   "execution_count": 36,
   "metadata": {},
   "outputs": [
    {
     "data": {
      "text/plain": [
       "[<matplotlib.lines.Line2D at 0x181455bb70>,\n",
       " <matplotlib.lines.Line2D at 0x181455bd30>,\n",
       " <matplotlib.lines.Line2D at 0x18145652e8>]"
      ]
     },
     "execution_count": 36,
     "metadata": {},
     "output_type": "execute_result"
    },
    {
     "data": {
      "image/png": "[encoded data removed]",
      "text/plain": [
       "<matplotlib.figure.Figure at 0x1814417470>"
      ]
     },
     "metadata": {},
     "output_type": "display_data"
    }
   ],
   "source": [
    "x = np.linspace(0, 1.0, 100)\n",
    "y1 = beta.pdf(x, 1.34, 0.3)\n",
    "y2 = beta.pdf(x, 0.45, 0.7)\n",
    "y3 = beta.pdf(x, 0.41, 0.8)\n",
    "plt.plot(x, y1, \"--\", x, y2, \"r--\", x, y3, \"g--\")"
   ]
  },
  {
   "cell_type": "code",
   "execution_count": 40,
   "metadata": {},
   "outputs": [
    {
     "data": {
      "text/plain": [
       "[<matplotlib.lines.Line2D at 0x181488b4e0>,\n",
       " <matplotlib.lines.Line2D at 0x181488b6a0>,\n",
       " <matplotlib.lines.Line2D at 0x181488bc18>]"
      ]
     },
     "execution_count": 40,
     "metadata": {},
     "output_type": "execute_result"
    },
    {
     "data": {
      "image/png": "[encoded data removed]",
      "text/plain": [
       "<matplotlib.figure.Figure at 0x1814736208>"
      ]
     },
     "metadata": {},
     "output_type": "display_data"
    }
   ],
   "source": [
    "x = np.linspace(0, 1.0, 100)\n",
    "y1 = beta.pdf(x, 5.1, 0.2)\n",
    "y2 = beta.pdf(x, 0.3, 1)\n",
    "y3 = beta.pdf(x, 0.3, 1.4)\n",
    "plt.plot(x, y1, \"--\", x, y2, \"r--\", x, y3, \"g--\")"
   ]
  },
  {
   "cell_type": "code",
   "execution_count": 3,
   "metadata": {},
   "outputs": [],
   "source": [
    "solution = [0] * num_literal\n",
    "\n",
    "for i in range(num_literal):\n",
    "    if(ans[i] >= bns[i]):\n",
    "        solution[i] = 1\n",
    "    else:\n",
    "        solution[i] = -1"
   ]
  },
  {
   "cell_type": "code",
   "execution_count": 4,
   "metadata": {},
   "outputs": [],
   "source": [
    "def satisfied_clauses():\n",
    "    num = 0;\n",
    "    for i in range(num_clauses):\n",
    "        clause_length = len(clauses[i]) - 1\n",
    "        for j in range(clause_length):\n",
    "            if(clauses[i][j] * solution[abs(clauses[i][j]) -1] > 0):\n",
    "                num = num + 1\n",
    "                break\n",
    "    return num;"
   ]
  },
  {
   "cell_type": "code",
   "execution_count": 5,
   "metadata": {},
   "outputs": [
    {
     "data": {
      "text/plain": [
       "1.0"
      ]
     },
     "execution_count": 5,
     "metadata": {},
     "output_type": "execute_result"
    }
   ],
   "source": [
    "satisfied_clauses()/num_clauses"
   ]
  },
  {
   "cell_type": "code",
   "execution_count": 6,
   "metadata": {},
   "outputs": [
    {
     "data": {
      "text/plain": [
       "[1, -1, 1]"
      ]
     },
     "execution_count": 6,
     "metadata": {},
     "output_type": "execute_result"
    }
   ],
   "source": [
    "solution"
   ]
  },
  {
   "cell_type": "code",
   "execution_count": 7,
   "metadata": {},
   "outputs": [
    {
     "data": {
      "text/plain": [
       "range(0, 5)"
      ]
     },
     "execution_count": 7,
     "metadata": {},
     "output_type": "execute_result"
    }
   ],
   "source": [
    "range(0, 5)"
   ]
  },
  {
   "cell_type": "code",
   "execution_count": 8,
   "metadata": {},
   "outputs": [
    {
     "data": {
      "text/plain": [
       "[980.8865226006678, 1.1253095895268408, 1.0]"
      ]
     },
     "execution_count": 8,
     "metadata": {},
     "output_type": "execute_result"
    }
   ],
   "source": [
    "ans"
   ]
  },
  {
   "cell_type": "code",
   "execution_count": 98,
   "metadata": {},
   "outputs": [
    {
     "ename": "TypeError",
     "evalue": "unsupported operand type(s) for /: 'list' and 'list'",
     "output_type": "error",
     "traceback": [
      "\u001b[0;31m---------------------------------------------------------------------------\u001b[0m",
      "\u001b[0;31mTypeError\u001b[0m                                 Traceback (most recent call last)",
      "\u001b[0;32m<ipython-input-98-2ecb216055f2>\u001b[0m in \u001b[0;36m<module>\u001b[0;34m()\u001b[0m\n\u001b[0;32m----> 1\u001b[0;31m \u001b[0mans\u001b[0m\u001b[0;34m/\u001b[0m\u001b[0;34m(\u001b[0m\u001b[0mans\u001b[0m\u001b[0;34m+\u001b[0m\u001b[0mbns\u001b[0m\u001b[0;34m)\u001b[0m\u001b[0;34m\u001b[0m\u001b[0m\n\u001b[0m",
      "\u001b[0;31mTypeError\u001b[0m: unsupported operand type(s) for /: 'list' and 'list'"
     ]
    }
   ],
   "source": [
    "ans/(ans+bns)"
   ]
  },
  {
   "cell_type": "code",
   "execution_count": 84,
   "metadata": {},
   "outputs": [],
   "source": [
    "update_clause(clauses[0])"
   ]
  },
  {
   "cell_type": "code",
   "execution_count": 86,
   "metadata": {},
   "outputs": [
    {
     "data": {
      "text/plain": [
       "[-159, -234, 197, 0]"
      ]
     },
     "execution_count": 86,
     "metadata": {},
     "output_type": "execute_result"
    }
   ],
   "source": [
    "clauses[0]"
   ]
  },
  {
   "cell_type": "code",
   "execution_count": 87,
   "metadata": {},
   "outputs": [
    {
     "data": {
      "text/plain": [
       "0.9589041095890425"
      ]
     },
     "execution_count": 87,
     "metadata": {},
     "output_type": "execute_result"
    }
   ],
   "source": [
    "ans[158]"
   ]
  },
  {
   "cell_type": "code",
   "execution_count": 88,
   "metadata": {},
   "outputs": [
    {
     "data": {
      "text/plain": [
       "1.0547945205479465"
      ]
     },
     "execution_count": 88,
     "metadata": {},
     "output_type": "execute_result"
    }
   ],
   "source": [
    "bns[158]"
   ]
  },
  {
   "cell_type": "code",
   "execution_count": 89,
   "metadata": {},
   "outputs": [
    {
     "data": {
      "text/plain": [
       "0.9589041095890425"
      ]
     },
     "execution_count": 89,
     "metadata": {},
     "output_type": "execute_result"
    }
   ],
   "source": [
    "ans[233]"
   ]
  },
  {
   "cell_type": "code",
   "execution_count": 90,
   "metadata": {},
   "outputs": [
    {
     "data": {
      "text/plain": [
       "1.0547945205479465"
      ]
     },
     "execution_count": 90,
     "metadata": {},
     "output_type": "execute_result"
    }
   ],
   "source": [
    "bns[233]"
   ]
  },
  {
   "cell_type": "code",
   "execution_count": 91,
   "metadata": {},
   "outputs": [
    {
     "data": {
      "text/plain": [
       "1.0547945205479452"
      ]
     },
     "execution_count": 91,
     "metadata": {},
     "output_type": "execute_result"
    }
   ],
   "source": [
    "ans[196]"
   ]
  },
  {
   "cell_type": "code",
   "execution_count": 92,
   "metadata": {},
   "outputs": [
    {
     "data": {
      "text/plain": [
       "0.9589041095890412"
      ]
     },
     "execution_count": 92,
     "metadata": {},
     "output_type": "execute_result"
    }
   ],
   "source": [
    "bns[196]"
   ]
  },
  {
   "cell_type": "code",
   "execution_count": 108,
   "metadata": {},
   "outputs": [
    {
     "data": {
      "text/plain": [
       "[-239, 146, 250, 0]"
      ]
     },
     "execution_count": 108,
     "metadata": {},
     "output_type": "execute_result"
    }
   ],
   "source": [
    "clauses[-1]"
   ]
  },
  {
   "cell_type": "code",
   "execution_count": 148,
   "metadata": {},
   "outputs": [
    {
     "data": {
      "text/plain": [
       "array([0.4655416 , 0.19406492, 0.15122018, 0.9213983 , 0.91516446,\n",
       "       0.52038542, 0.06993583, 0.05699085, 0.87650719, 0.87854553,\n",
       "       0.26616007, 0.95450902, 0.10634161, 0.94497352, 0.0487938 ,\n",
       "       0.66923303, 0.06793284, 0.18652157, 0.05295333, 0.13730522,\n",
       "       0.70890634, 0.63121843, 0.84281539, 0.94078695, 0.88987543,\n",
       "       0.93076008, 0.14257245, 0.11013819, 0.44646023, 0.70824212,\n",
       "       0.83930212, 0.36445005, 0.37110201, 0.11163705, 0.96702036,\n",
       "       0.04643309, 0.50515545, 0.88450505, 0.03335672, 0.84346463,\n",
       "       0.15533793, 0.19235894, 0.94457904, 0.55565127, 0.14933034,\n",
       "       0.07551554, 0.07742012, 0.0653525 , 0.11290127, 0.8896151 ,\n",
       "       0.31781562, 0.04641766, 0.31389035, 0.34235748, 0.88764328,\n",
       "       0.96054951, 0.41931849, 0.07885087, 0.14963596, 0.9123938 ,\n",
       "       0.24370702, 0.92247121, 0.06251304, 0.40820852, 0.22131536,\n",
       "       0.46070184, 0.6477722 , 0.71073445, 0.94923627, 0.97183161,\n",
       "       0.37417587, 0.83584781, 0.92049411, 0.83313559, 0.18112467,\n",
       "       0.94549292, 0.13773254, 0.22032581, 0.85872519, 0.29609803,\n",
       "       0.07851731, 0.93671018, 0.28550648, 0.2127428 , 0.08519517,\n",
       "       0.92358504, 0.20329814, 0.68224652, 0.36669068, 0.95763411,\n",
       "       0.37563555, 0.94684798, 0.93764682, 0.89091729, 0.04622044,\n",
       "       0.73524144, 0.7034718 , 0.89621206, 0.85360372, 0.82470182,\n",
       "       0.21152452, 0.8992761 , 0.52250035, 0.92326672, 0.95278203,\n",
       "       0.92287546, 0.91325587, 0.72323911, 0.95830933, 0.93167   ,\n",
       "       0.96568239, 0.84951196, 0.82159706, 0.17668792, 0.41001404,\n",
       "       0.06912467, 0.94684357, 0.44108142, 0.85789815, 0.12567176,\n",
       "       0.21160478, 0.96023684, 0.3797342 , 0.30424604, 0.97676481,\n",
       "       0.07372505, 0.06978282, 0.30160115, 0.03717447, 0.2015258 ,\n",
       "       0.80724883, 0.0309308 , 0.80348444, 0.75986814, 0.23032401,\n",
       "       0.93902682, 0.81144934, 0.01718942, 0.05438671, 0.89786909,\n",
       "       0.06540207, 0.92151745, 0.71349068, 0.79834309, 0.38725034,\n",
       "       0.4851611 , 0.97273912, 0.18623189, 0.11191906, 0.91390873,\n",
       "       0.88968241, 0.16372746, 0.91298678, 0.86598998, 0.46830194,\n",
       "       0.68980999, 0.45441701, 0.07268648, 0.91747523, 0.70387331,\n",
       "       0.04946789, 0.93495816, 0.05076635, 0.22286291, 0.85576584,\n",
       "       0.34458255, 0.14291412, 0.29118369, 0.03950434, 0.97023226,\n",
       "       0.80535094, 0.0999114 , 0.85039492, 0.05180074, 0.44323849,\n",
       "       0.8514303 , 0.96572168, 0.07724909, 0.06865179, 0.07491493,\n",
       "       0.13497875, 0.07436682, 0.8727003 , 0.95514133, 0.08819147,\n",
       "       0.19276244, 0.21783664, 0.58147094, 0.94396977, 0.23737646,\n",
       "       0.04380331, 0.92867596, 0.89571678, 0.20678435, 0.57982013,\n",
       "       0.92351523, 0.92571891, 0.02928797, 0.84898776, 0.96637369,\n",
       "       0.68733707, 0.05725096, 0.61604283, 0.77039632, 0.2788233 ,\n",
       "       0.78932239, 0.80179023, 0.9474742 , 0.09407777, 0.86127535,\n",
       "       0.07987207, 0.95557368, 0.06277319, 0.41508368, 0.13569235,\n",
       "       0.87413693, 0.83342372, 0.91216933, 0.83154073, 0.67307824,\n",
       "       0.96361131, 0.24547972, 0.19113976, 0.08599778, 0.8523194 ,\n",
       "       0.69787838, 0.7778647 , 0.46290118, 0.03453375, 0.15383685,\n",
       "       0.02608882, 0.82058561, 0.95458322, 0.83654766, 0.92283212,\n",
       "       0.66499923, 0.12979681, 0.86686264, 0.0727969 , 0.10722341,\n",
       "       0.95371046, 0.74800468, 0.9618524 , 0.94293872, 0.0323805 ,\n",
       "       0.94543648, 0.8016437 , 0.24470239, 0.44676564, 0.53054925])"
      ]
     },
     "execution_count": 148,
     "metadata": {},
     "output_type": "execute_result"
    }
   ],
   "source": [
    "np.array(ans) / (np.array(ans) + np.array(bns)) "
   ]
  },
  {
   "cell_type": "code",
   "execution_count": null,
   "metadata": {},
   "outputs": [],
   "source": []
  }
 ],
 "metadata": {
  "kernelspec": {
   "display_name": "Python 3",
   "language": "python",
   "name": "python3"
  },
  "language_info": {
   "codemirror_mode": {
    "name": "ipython",
    "version": 3
   },
   "file_extension": ".py",
   "mimetype": "text/x-python",
   "name": "python",
   "nbconvert_exporter": "python",
   "pygments_lexer": "ipython3",
   "version": "3.7.6"
  }
 },
 "nbformat": 4,
 "nbformat_minor": 2
}
